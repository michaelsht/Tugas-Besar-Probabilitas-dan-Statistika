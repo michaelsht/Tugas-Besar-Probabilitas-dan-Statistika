{
  "nbformat": 4,
  "nbformat_minor": 0,
  "metadata": {
    "colab": {
      "provenance": []
    },
    "kernelspec": {
      "name": "python3",
      "display_name": "Python 3"
    },
    "language_info": {
      "name": "python"
    }
  },
  "cells": [
    {
      "cell_type": "markdown",
      "source": [
        "# DATA DIRI"
      ],
      "metadata": {
        "id": "0X9ZIKJsxsrg"
      }
    },
    {
      "cell_type": "code",
      "source": [
        "# Data Diri\n",
        "print(\"Nama : Michael Sihotang\")\n",
        "print(\"NIM  : 18221054\")"
      ],
      "metadata": {
        "colab": {
          "base_uri": "https://localhost:8080/"
        },
        "id": "r2cPq1OYxv7n",
        "outputId": "fd01a185-a2e6-4372-890b-cf8c3fc62044"
      },
      "execution_count": 1,
      "outputs": [
        {
          "output_type": "stream",
          "name": "stdout",
          "text": [
            "Nama : Michael Sihotang\n",
            "NIM  : 18221054\n"
          ]
        }
      ]
    },
    {
      "cell_type": "code",
      "source": [
        "# import modul yang diperlukan\n",
        "import pandas as pd\n",
        "import numpy as np\n",
        "import matplotlib.pyplot as plt\n",
        "import seaborn as sns\n",
        "import math as m\n",
        "from scipy.stats import norm\n",
        "import scipy.stats as st\n",
        "import statsmodels.api as sm\n",
        "from statsmodels.formula.api import ols\n",
        "import pingouin as pg"
      ],
      "metadata": {
        "id": "lJx_MKN4x2pp"
      },
      "execution_count": 4,
      "outputs": []
    },
    {
      "cell_type": "code",
      "source": [
        "# import dataset\n",
        "df = pd.read_excel(\"18221054.xlsx\")"
      ],
      "metadata": {
        "id": "NjJTz1KXyMjE"
      },
      "execution_count": 5,
      "outputs": []
    },
    {
      "cell_type": "code",
      "source": [
        "# sampling data\n",
        "df_sample = df.sample(10)"
      ],
      "metadata": {
        "id": "_tkhoedvySWf"
      },
      "execution_count": 6,
      "outputs": []
    },
    {
      "cell_type": "code",
      "source": [
        "df_sample"
      ],
      "metadata": {
        "colab": {
          "base_uri": "https://localhost:8080/",
          "height": 890
        },
        "id": "CFJd2QOdyVM5",
        "outputId": "f8667e58-7a9c-48ba-acfe-7df4575edbc2"
      },
      "execution_count": 7,
      "outputs": [
        {
          "output_type": "execute_result",
          "data": {
            "text/plain": [
              "    Jenis Kelamin  Usia Pendidikan Terakhir            Pekerjaan  \\\n",
              "189          Pria    21                 SMA  Pelajar / Mahasiswa   \n",
              "260        Wanita    49                  S1     Ibu Rumah Tangga   \n",
              "183        Wanita    21                 SMA  Pelajar / Mahasiswa   \n",
              "84         Wanita    19                 SMA  Pelajar / Mahasiswa   \n",
              "75         Wanita    19                  S1  Pelajar / Mahasiswa   \n",
              "76           Pria    36                  S1      Karyawan Swasta   \n",
              "169          Pria    19                 SMA  Pelajar / Mahasiswa   \n",
              "185        Wanita    47                  S2      Karyawan Swasta   \n",
              "272        Wanita    19                 SMA  Pelajar / Mahasiswa   \n",
              "175          Pria    16                 SMA  Pelajar / Mahasiswa   \n",
              "\n",
              "     Penghasilan per Bulan   Domisili  \\\n",
              "189            < Rp 2 juta    Bandung   \n",
              "260                    NaN  Tangerang   \n",
              "183            < Rp 2 juta   Surabaya   \n",
              "84             < Rp 2 juta      Bogor   \n",
              "75             < Rp 2 juta    Cirebon   \n",
              "76            > Rp 10 juta      Medan   \n",
              "169  Rp 2 juta – Rp 5 juta    Bandung   \n",
              "185           > Rp 10 juta    Jakarta   \n",
              "272            < Rp 2 juta     Malang   \n",
              "175            < Rp 2 juta    Bandung   \n",
              "\n",
              "    Durasi Penggunaan Internet per Hari (dalam Jam)  \\\n",
              "189                                            600%   \n",
              "260                                            600%   \n",
              "183                                            800%   \n",
              "84                                             600%   \n",
              "75                                            1000%   \n",
              "76                                             500%   \n",
              "169                                            800%   \n",
              "185                                           1000%   \n",
              "272                                             NaN   \n",
              "175                                             NaN   \n",
              "\n",
              "    Aktivitas Online Meningkat  \\\n",
              "189                         Ya   \n",
              "260                  Sama saja   \n",
              "183                         Ya   \n",
              "84                   Sama saja   \n",
              "75                          Ya   \n",
              "76                   Sama saja   \n",
              "169                        NaN   \n",
              "185                      Tidak   \n",
              "272                         Ya   \n",
              "175                      Tidak   \n",
              "\n",
              "       Aktivitas yang Meningkat dalam 3 Bulan Terakhir layanan_aktif_1  ...  \\\n",
              "189                                 Akses media sosial  Mobile Banking  ...   \n",
              "260                                                NaN  Mobile Banking  ...   \n",
              "183                                 Akses media sosial             NaN  ...   \n",
              "84                                                 NaN  Mobile Banking  ...   \n",
              "75                                  Akses media sosial  Mobile Banking  ...   \n",
              "76                                                 NaN  Mobile Banking  ...   \n",
              "169                                  Berbelanja online  Mobile Banking  ...   \n",
              "185                         Melakukan video conference  Mobile Banking  ...   \n",
              "272  akses google docs untuk mencatat dan youtube/p...  Mobile Banking  ...   \n",
              "175                                                NaN  Mobile Banking  ...   \n",
              "\n",
              "    cara_pembayaran_belanja_online_5 cara_pembayaran_belanja_online_6  \\\n",
              "189                 Transfer via ATM                              NaN   \n",
              "260                              NaN                              NaN   \n",
              "183                              NaN                              NaN   \n",
              "84                               NaN                              NaN   \n",
              "75                               NaN                              NaN   \n",
              "76                               NaN      Kartu Kredit / Debit Online   \n",
              "169                              NaN                              NaN   \n",
              "185                              NaN                              NaN   \n",
              "272                              NaN                              NaN   \n",
              "175                 Transfer via ATM                              NaN   \n",
              "\n",
              "    cara_pembayaran_belanja_online_7 cara_pembayaran_belanja_online_8  \\\n",
              "189                              NaN       menggunakan fitur Paylater   \n",
              "260                              NaN                              NaN   \n",
              "183                              NaN                              NaN   \n",
              "84                               NaN                              NaN   \n",
              "75                               NaN                              NaN   \n",
              "76                               NaN                              NaN   \n",
              "169                              NaN                              NaN   \n",
              "185                              NaN                              NaN   \n",
              "272                              NaN                              NaN   \n",
              "175                              NaN                              NaN   \n",
              "\n",
              "                              keluhan_belanja_online_1  \\\n",
              "189                                                NaN   \n",
              "260  Barang yang diperoleh tidak sesuai dengan spes...   \n",
              "183  Barang yang diperoleh tidak sesuai dengan spes...   \n",
              "84                                                 NaN   \n",
              "75   Barang yang diperoleh tidak sesuai dengan spes...   \n",
              "76                                                 NaN   \n",
              "169  Barang yang diperoleh tidak sesuai dengan spes...   \n",
              "185                                                NaN   \n",
              "272                                                NaN   \n",
              "175                                                NaN   \n",
              "\n",
              "    keluhan_belanja_online_2  \\\n",
              "189                      NaN   \n",
              "260                      NaN   \n",
              "183                      NaN   \n",
              "84                       NaN   \n",
              "75                       NaN   \n",
              "76                       NaN   \n",
              "169                      NaN   \n",
              "185                      NaN   \n",
              "272                      NaN   \n",
              "175                      NaN   \n",
              "\n",
              "                              keluhan_belanja_online_3  \\\n",
              "189                                                NaN   \n",
              "260  Pembayaran sudah dilakukan; barang tidak tersedia   \n",
              "183                                                NaN   \n",
              "84                                                 NaN   \n",
              "75                                                 NaN   \n",
              "76   Pembayaran sudah dilakukan; barang tidak tersedia   \n",
              "169                                                NaN   \n",
              "185  Pembayaran sudah dilakukan; barang tidak tersedia   \n",
              "272                                                NaN   \n",
              "175                                                NaN   \n",
              "\n",
              "               keluhan_belanja_online_4  \\\n",
              "189                                 NaN   \n",
              "260  Jumlah barang yang diterima kurang   \n",
              "183                                 NaN   \n",
              "84                                  NaN   \n",
              "75                                  NaN   \n",
              "76                                  NaN   \n",
              "169                                 NaN   \n",
              "185                                 NaN   \n",
              "272                                 NaN   \n",
              "175                                 NaN   \n",
              "\n",
              "                              keluhan_belanja_online_5  \\\n",
              "189  Pembayaran telah dilakukan tetapi tidak terdet...   \n",
              "260                                                NaN   \n",
              "183                                                NaN   \n",
              "84   Pembayaran telah dilakukan tetapi tidak terdet...   \n",
              "75                                                 NaN   \n",
              "76                                                 NaN   \n",
              "169                                                NaN   \n",
              "185                                                NaN   \n",
              "272                                                NaN   \n",
              "175                                                NaN   \n",
              "\n",
              "                              keluhan_belanja_online_6  \n",
              "189  Saldo eMoney/ eWallet berkurang tanpa melakuka...  \n",
              "260                                                NaN  \n",
              "183                                                NaN  \n",
              "84                                                 NaN  \n",
              "75                                                 NaN  \n",
              "76                                                 NaN  \n",
              "169                                                NaN  \n",
              "185                                                NaN  \n",
              "272                                                NaN  \n",
              "175                                                NaN  \n",
              "\n",
              "[10 rows x 150 columns]"
            ],
            "text/html": [
              "\n",
              "  <div id=\"df-b561774a-7f70-41a2-bdbb-885305774572\">\n",
              "    <div class=\"colab-df-container\">\n",
              "      <div>\n",
              "<style scoped>\n",
              "    .dataframe tbody tr th:only-of-type {\n",
              "        vertical-align: middle;\n",
              "    }\n",
              "\n",
              "    .dataframe tbody tr th {\n",
              "        vertical-align: top;\n",
              "    }\n",
              "\n",
              "    .dataframe thead th {\n",
              "        text-align: right;\n",
              "    }\n",
              "</style>\n",
              "<table border=\"1\" class=\"dataframe\">\n",
              "  <thead>\n",
              "    <tr style=\"text-align: right;\">\n",
              "      <th></th>\n",
              "      <th>Jenis Kelamin</th>\n",
              "      <th>Usia</th>\n",
              "      <th>Pendidikan Terakhir</th>\n",
              "      <th>Pekerjaan</th>\n",
              "      <th>Penghasilan per Bulan</th>\n",
              "      <th>Domisili</th>\n",
              "      <th>Durasi Penggunaan Internet per Hari (dalam Jam)</th>\n",
              "      <th>Aktivitas Online Meningkat</th>\n",
              "      <th>Aktivitas yang Meningkat dalam 3 Bulan Terakhir</th>\n",
              "      <th>layanan_aktif_1</th>\n",
              "      <th>...</th>\n",
              "      <th>cara_pembayaran_belanja_online_5</th>\n",
              "      <th>cara_pembayaran_belanja_online_6</th>\n",
              "      <th>cara_pembayaran_belanja_online_7</th>\n",
              "      <th>cara_pembayaran_belanja_online_8</th>\n",
              "      <th>keluhan_belanja_online_1</th>\n",
              "      <th>keluhan_belanja_online_2</th>\n",
              "      <th>keluhan_belanja_online_3</th>\n",
              "      <th>keluhan_belanja_online_4</th>\n",
              "      <th>keluhan_belanja_online_5</th>\n",
              "      <th>keluhan_belanja_online_6</th>\n",
              "    </tr>\n",
              "  </thead>\n",
              "  <tbody>\n",
              "    <tr>\n",
              "      <th>189</th>\n",
              "      <td>Pria</td>\n",
              "      <td>21</td>\n",
              "      <td>SMA</td>\n",
              "      <td>Pelajar / Mahasiswa</td>\n",
              "      <td>&lt; Rp 2 juta</td>\n",
              "      <td>Bandung</td>\n",
              "      <td>600%</td>\n",
              "      <td>Ya</td>\n",
              "      <td>Akses media sosial</td>\n",
              "      <td>Mobile Banking</td>\n",
              "      <td>...</td>\n",
              "      <td>Transfer via ATM</td>\n",
              "      <td>NaN</td>\n",
              "      <td>NaN</td>\n",
              "      <td>menggunakan fitur Paylater</td>\n",
              "      <td>NaN</td>\n",
              "      <td>NaN</td>\n",
              "      <td>NaN</td>\n",
              "      <td>NaN</td>\n",
              "      <td>Pembayaran telah dilakukan tetapi tidak terdet...</td>\n",
              "      <td>Saldo eMoney/ eWallet berkurang tanpa melakuka...</td>\n",
              "    </tr>\n",
              "    <tr>\n",
              "      <th>260</th>\n",
              "      <td>Wanita</td>\n",
              "      <td>49</td>\n",
              "      <td>S1</td>\n",
              "      <td>Ibu Rumah Tangga</td>\n",
              "      <td>NaN</td>\n",
              "      <td>Tangerang</td>\n",
              "      <td>600%</td>\n",
              "      <td>Sama saja</td>\n",
              "      <td>NaN</td>\n",
              "      <td>Mobile Banking</td>\n",
              "      <td>...</td>\n",
              "      <td>NaN</td>\n",
              "      <td>NaN</td>\n",
              "      <td>NaN</td>\n",
              "      <td>NaN</td>\n",
              "      <td>Barang yang diperoleh tidak sesuai dengan spes...</td>\n",
              "      <td>NaN</td>\n",
              "      <td>Pembayaran sudah dilakukan; barang tidak tersedia</td>\n",
              "      <td>Jumlah barang yang diterima kurang</td>\n",
              "      <td>NaN</td>\n",
              "      <td>NaN</td>\n",
              "    </tr>\n",
              "    <tr>\n",
              "      <th>183</th>\n",
              "      <td>Wanita</td>\n",
              "      <td>21</td>\n",
              "      <td>SMA</td>\n",
              "      <td>Pelajar / Mahasiswa</td>\n",
              "      <td>&lt; Rp 2 juta</td>\n",
              "      <td>Surabaya</td>\n",
              "      <td>800%</td>\n",
              "      <td>Ya</td>\n",
              "      <td>Akses media sosial</td>\n",
              "      <td>NaN</td>\n",
              "      <td>...</td>\n",
              "      <td>NaN</td>\n",
              "      <td>NaN</td>\n",
              "      <td>NaN</td>\n",
              "      <td>NaN</td>\n",
              "      <td>Barang yang diperoleh tidak sesuai dengan spes...</td>\n",
              "      <td>NaN</td>\n",
              "      <td>NaN</td>\n",
              "      <td>NaN</td>\n",
              "      <td>NaN</td>\n",
              "      <td>NaN</td>\n",
              "    </tr>\n",
              "    <tr>\n",
              "      <th>84</th>\n",
              "      <td>Wanita</td>\n",
              "      <td>19</td>\n",
              "      <td>SMA</td>\n",
              "      <td>Pelajar / Mahasiswa</td>\n",
              "      <td>&lt; Rp 2 juta</td>\n",
              "      <td>Bogor</td>\n",
              "      <td>600%</td>\n",
              "      <td>Sama saja</td>\n",
              "      <td>NaN</td>\n",
              "      <td>Mobile Banking</td>\n",
              "      <td>...</td>\n",
              "      <td>NaN</td>\n",
              "      <td>NaN</td>\n",
              "      <td>NaN</td>\n",
              "      <td>NaN</td>\n",
              "      <td>NaN</td>\n",
              "      <td>NaN</td>\n",
              "      <td>NaN</td>\n",
              "      <td>NaN</td>\n",
              "      <td>Pembayaran telah dilakukan tetapi tidak terdet...</td>\n",
              "      <td>NaN</td>\n",
              "    </tr>\n",
              "    <tr>\n",
              "      <th>75</th>\n",
              "      <td>Wanita</td>\n",
              "      <td>19</td>\n",
              "      <td>S1</td>\n",
              "      <td>Pelajar / Mahasiswa</td>\n",
              "      <td>&lt; Rp 2 juta</td>\n",
              "      <td>Cirebon</td>\n",
              "      <td>1000%</td>\n",
              "      <td>Ya</td>\n",
              "      <td>Akses media sosial</td>\n",
              "      <td>Mobile Banking</td>\n",
              "      <td>...</td>\n",
              "      <td>NaN</td>\n",
              "      <td>NaN</td>\n",
              "      <td>NaN</td>\n",
              "      <td>NaN</td>\n",
              "      <td>Barang yang diperoleh tidak sesuai dengan spes...</td>\n",
              "      <td>NaN</td>\n",
              "      <td>NaN</td>\n",
              "      <td>NaN</td>\n",
              "      <td>NaN</td>\n",
              "      <td>NaN</td>\n",
              "    </tr>\n",
              "    <tr>\n",
              "      <th>76</th>\n",
              "      <td>Pria</td>\n",
              "      <td>36</td>\n",
              "      <td>S1</td>\n",
              "      <td>Karyawan Swasta</td>\n",
              "      <td>&gt; Rp 10 juta</td>\n",
              "      <td>Medan</td>\n",
              "      <td>500%</td>\n",
              "      <td>Sama saja</td>\n",
              "      <td>NaN</td>\n",
              "      <td>Mobile Banking</td>\n",
              "      <td>...</td>\n",
              "      <td>NaN</td>\n",
              "      <td>Kartu Kredit / Debit Online</td>\n",
              "      <td>NaN</td>\n",
              "      <td>NaN</td>\n",
              "      <td>NaN</td>\n",
              "      <td>NaN</td>\n",
              "      <td>Pembayaran sudah dilakukan; barang tidak tersedia</td>\n",
              "      <td>NaN</td>\n",
              "      <td>NaN</td>\n",
              "      <td>NaN</td>\n",
              "    </tr>\n",
              "    <tr>\n",
              "      <th>169</th>\n",
              "      <td>Pria</td>\n",
              "      <td>19</td>\n",
              "      <td>SMA</td>\n",
              "      <td>Pelajar / Mahasiswa</td>\n",
              "      <td>Rp 2 juta – Rp 5 juta</td>\n",
              "      <td>Bandung</td>\n",
              "      <td>800%</td>\n",
              "      <td>NaN</td>\n",
              "      <td>Berbelanja online</td>\n",
              "      <td>Mobile Banking</td>\n",
              "      <td>...</td>\n",
              "      <td>NaN</td>\n",
              "      <td>NaN</td>\n",
              "      <td>NaN</td>\n",
              "      <td>NaN</td>\n",
              "      <td>Barang yang diperoleh tidak sesuai dengan spes...</td>\n",
              "      <td>NaN</td>\n",
              "      <td>NaN</td>\n",
              "      <td>NaN</td>\n",
              "      <td>NaN</td>\n",
              "      <td>NaN</td>\n",
              "    </tr>\n",
              "    <tr>\n",
              "      <th>185</th>\n",
              "      <td>Wanita</td>\n",
              "      <td>47</td>\n",
              "      <td>S2</td>\n",
              "      <td>Karyawan Swasta</td>\n",
              "      <td>&gt; Rp 10 juta</td>\n",
              "      <td>Jakarta</td>\n",
              "      <td>1000%</td>\n",
              "      <td>Tidak</td>\n",
              "      <td>Melakukan video conference</td>\n",
              "      <td>Mobile Banking</td>\n",
              "      <td>...</td>\n",
              "      <td>NaN</td>\n",
              "      <td>NaN</td>\n",
              "      <td>NaN</td>\n",
              "      <td>NaN</td>\n",
              "      <td>NaN</td>\n",
              "      <td>NaN</td>\n",
              "      <td>Pembayaran sudah dilakukan; barang tidak tersedia</td>\n",
              "      <td>NaN</td>\n",
              "      <td>NaN</td>\n",
              "      <td>NaN</td>\n",
              "    </tr>\n",
              "    <tr>\n",
              "      <th>272</th>\n",
              "      <td>Wanita</td>\n",
              "      <td>19</td>\n",
              "      <td>SMA</td>\n",
              "      <td>Pelajar / Mahasiswa</td>\n",
              "      <td>&lt; Rp 2 juta</td>\n",
              "      <td>Malang</td>\n",
              "      <td>NaN</td>\n",
              "      <td>Ya</td>\n",
              "      <td>akses google docs untuk mencatat dan youtube/p...</td>\n",
              "      <td>Mobile Banking</td>\n",
              "      <td>...</td>\n",
              "      <td>NaN</td>\n",
              "      <td>NaN</td>\n",
              "      <td>NaN</td>\n",
              "      <td>NaN</td>\n",
              "      <td>NaN</td>\n",
              "      <td>NaN</td>\n",
              "      <td>NaN</td>\n",
              "      <td>NaN</td>\n",
              "      <td>NaN</td>\n",
              "      <td>NaN</td>\n",
              "    </tr>\n",
              "    <tr>\n",
              "      <th>175</th>\n",
              "      <td>Pria</td>\n",
              "      <td>16</td>\n",
              "      <td>SMA</td>\n",
              "      <td>Pelajar / Mahasiswa</td>\n",
              "      <td>&lt; Rp 2 juta</td>\n",
              "      <td>Bandung</td>\n",
              "      <td>NaN</td>\n",
              "      <td>Tidak</td>\n",
              "      <td>NaN</td>\n",
              "      <td>Mobile Banking</td>\n",
              "      <td>...</td>\n",
              "      <td>Transfer via ATM</td>\n",
              "      <td>NaN</td>\n",
              "      <td>NaN</td>\n",
              "      <td>NaN</td>\n",
              "      <td>NaN</td>\n",
              "      <td>NaN</td>\n",
              "      <td>NaN</td>\n",
              "      <td>NaN</td>\n",
              "      <td>NaN</td>\n",
              "      <td>NaN</td>\n",
              "    </tr>\n",
              "  </tbody>\n",
              "</table>\n",
              "<p>10 rows × 150 columns</p>\n",
              "</div>\n",
              "      <button class=\"colab-df-convert\" onclick=\"convertToInteractive('df-b561774a-7f70-41a2-bdbb-885305774572')\"\n",
              "              title=\"Convert this dataframe to an interactive table.\"\n",
              "              style=\"display:none;\">\n",
              "        \n",
              "  <svg xmlns=\"http://www.w3.org/2000/svg\" height=\"24px\"viewBox=\"0 0 24 24\"\n",
              "       width=\"24px\">\n",
              "    <path d=\"M0 0h24v24H0V0z\" fill=\"none\"/>\n",
              "    <path d=\"M18.56 5.44l.94 2.06.94-2.06 2.06-.94-2.06-.94-.94-2.06-.94 2.06-2.06.94zm-11 1L8.5 8.5l.94-2.06 2.06-.94-2.06-.94L8.5 2.5l-.94 2.06-2.06.94zm10 10l.94 2.06.94-2.06 2.06-.94-2.06-.94-.94-2.06-.94 2.06-2.06.94z\"/><path d=\"M17.41 7.96l-1.37-1.37c-.4-.4-.92-.59-1.43-.59-.52 0-1.04.2-1.43.59L10.3 9.45l-7.72 7.72c-.78.78-.78 2.05 0 2.83L4 21.41c.39.39.9.59 1.41.59.51 0 1.02-.2 1.41-.59l7.78-7.78 2.81-2.81c.8-.78.8-2.07 0-2.86zM5.41 20L4 18.59l7.72-7.72 1.47 1.35L5.41 20z\"/>\n",
              "  </svg>\n",
              "      </button>\n",
              "      \n",
              "  <style>\n",
              "    .colab-df-container {\n",
              "      display:flex;\n",
              "      flex-wrap:wrap;\n",
              "      gap: 12px;\n",
              "    }\n",
              "\n",
              "    .colab-df-convert {\n",
              "      background-color: #E8F0FE;\n",
              "      border: none;\n",
              "      border-radius: 50%;\n",
              "      cursor: pointer;\n",
              "      display: none;\n",
              "      fill: #1967D2;\n",
              "      height: 32px;\n",
              "      padding: 0 0 0 0;\n",
              "      width: 32px;\n",
              "    }\n",
              "\n",
              "    .colab-df-convert:hover {\n",
              "      background-color: #E2EBFA;\n",
              "      box-shadow: 0px 1px 2px rgba(60, 64, 67, 0.3), 0px 1px 3px 1px rgba(60, 64, 67, 0.15);\n",
              "      fill: #174EA6;\n",
              "    }\n",
              "\n",
              "    [theme=dark] .colab-df-convert {\n",
              "      background-color: #3B4455;\n",
              "      fill: #D2E3FC;\n",
              "    }\n",
              "\n",
              "    [theme=dark] .colab-df-convert:hover {\n",
              "      background-color: #434B5C;\n",
              "      box-shadow: 0px 1px 3px 1px rgba(0, 0, 0, 0.15);\n",
              "      filter: drop-shadow(0px 1px 2px rgba(0, 0, 0, 0.3));\n",
              "      fill: #FFFFFF;\n",
              "    }\n",
              "  </style>\n",
              "\n",
              "      <script>\n",
              "        const buttonEl =\n",
              "          document.querySelector('#df-b561774a-7f70-41a2-bdbb-885305774572 button.colab-df-convert');\n",
              "        buttonEl.style.display =\n",
              "          google.colab.kernel.accessAllowed ? 'block' : 'none';\n",
              "\n",
              "        async function convertToInteractive(key) {\n",
              "          const element = document.querySelector('#df-b561774a-7f70-41a2-bdbb-885305774572');\n",
              "          const dataTable =\n",
              "            await google.colab.kernel.invokeFunction('convertToInteractive',\n",
              "                                                     [key], {});\n",
              "          if (!dataTable) return;\n",
              "\n",
              "          const docLinkHtml = 'Like what you see? Visit the ' +\n",
              "            '<a target=\"_blank\" href=https://colab.research.google.com/notebooks/data_table.ipynb>data table notebook</a>'\n",
              "            + ' to learn more about interactive tables.';\n",
              "          element.innerHTML = '';\n",
              "          dataTable['output_type'] = 'display_data';\n",
              "          await google.colab.output.renderOutput(dataTable, element);\n",
              "          const docLink = document.createElement('div');\n",
              "          docLink.innerHTML = docLinkHtml;\n",
              "          element.appendChild(docLink);\n",
              "        }\n",
              "      </script>\n",
              "    </div>\n",
              "  </div>\n",
              "  "
            ]
          },
          "metadata": {},
          "execution_count": 7
        }
      ]
    },
    {
      "cell_type": "code",
      "source": [
        "pd.DataFrame(enumerate(df.columns)).to_excel('col1.xlsx')"
      ],
      "metadata": {
        "id": "s2X-Mn4pyYln"
      },
      "execution_count": 8,
      "outputs": []
    },
    {
      "cell_type": "code",
      "source": [
        "# ukuran data\n",
        "df.shape"
      ],
      "metadata": {
        "colab": {
          "base_uri": "https://localhost:8080/"
        },
        "id": "kkloWN1Wyc5a",
        "outputId": "cf4eeb0d-e034-4030-9077-2faa2f3064f3"
      },
      "execution_count": 9,
      "outputs": [
        {
          "output_type": "execute_result",
          "data": {
            "text/plain": [
              "(300, 150)"
            ]
          },
          "metadata": {},
          "execution_count": 9
        }
      ]
    },
    {
      "cell_type": "code",
      "source": [
        "# jumlah responden\n",
        "Responden = df.shape[0]\n",
        "Responden"
      ],
      "metadata": {
        "colab": {
          "base_uri": "https://localhost:8080/"
        },
        "id": "-YdW8fiKyfrN",
        "outputId": "57d41e76-12a1-4557-b030-9bb44ad61b8c"
      },
      "execution_count": 10,
      "outputs": [
        {
          "output_type": "execute_result",
          "data": {
            "text/plain": [
              "300"
            ]
          },
          "metadata": {},
          "execution_count": 10
        }
      ]
    },
    {
      "cell_type": "markdown",
      "source": [
        "# SOLUSI"
      ],
      "metadata": {
        "id": "tZtK8z6Oyjj6"
      }
    },
    {
      "cell_type": "markdown",
      "source": [
        "### Nomor 1"
      ],
      "metadata": {
        "id": "qVKQpiMRymbX"
      }
    },
    {
      "cell_type": "markdown",
      "source": [
        "Buat bar chart / pie chart/ donut chart yang menunjukkan perbedaan frekuensi / proporsi jenis kelamin responden."
      ],
      "metadata": {
        "id": "ggN6Xl6Gyqon"
      }
    },
    {
      "cell_type": "code",
      "source": [
        "# Perbedaan frekuensi/proporsi jenis kelamin responden\n",
        "sns.countplot(data = df, x = 'Jenis Kelamin')"
      ],
      "metadata": {
        "colab": {
          "base_uri": "https://localhost:8080/",
          "height": 296
        },
        "id": "jFxmuVSXytTh",
        "outputId": "b238475a-4172-4f0f-ed7a-5ee0ef871064"
      },
      "execution_count": 11,
      "outputs": [
        {
          "output_type": "execute_result",
          "data": {
            "text/plain": [
              "<matplotlib.axes._subplots.AxesSubplot at 0x7f04042d26d0>"
            ]
          },
          "metadata": {},
          "execution_count": 11
        },
        {
          "output_type": "display_data",
          "data": {
            "text/plain": [
              "<Figure size 432x288 with 1 Axes>"
            ],
            "image/png": "[encoded data removed]"
          },
          "metadata": {
            "needs_background": "light"
          }
        }
      ]
    },
    {
      "cell_type": "markdown",
      "source": [
        "### Nomor 2"
      ],
      "metadata": {
        "id": "ZlgFl6zCyzAU"
      }
    },
    {
      "cell_type": "markdown",
      "source": [
        "Buat tabel frekuensi dan proporsi untuk jenis kelamin responden."
      ],
      "metadata": {
        "id": "T8x9BwK-y1I-"
      }
    },
    {
      "cell_type": "code",
      "source": [
        "# Tabel frekuensi dan proporsi untuk jenis kelamin responden\n",
        "proporsi_JK = pd.DataFrame(df.iloc[:,0].value_counts()).reset_index()\n",
        "proporsi_JK.columns = ['Jenis Kelamin','Frekuensi']\n",
        "Frekuensi_Total = proporsi_JK['Frekuensi'].sum()\n",
        "proporsi_Wanita = proporsi_JK['Frekuensi'][0] / Frekuensi_Total\n",
        "proporsi_Pria = proporsi_JK['Frekuensi'][1] / Frekuensi_Total\n",
        "proporsi_JK['Proporsi'] = [proporsi_Wanita,proporsi_Pria]\n",
        "proporsi_JK"
      ],
      "metadata": {
        "colab": {
          "base_uri": "https://localhost:8080/",
          "height": 112
        },
        "id": "uAQv8k5wy4Yh",
        "outputId": "a6de2253-66b9-4e80-e2d5-64f8b2e51834"
      },
      "execution_count": 12,
      "outputs": [
        {
          "output_type": "execute_result",
          "data": {
            "text/plain": [
              "  Jenis Kelamin  Frekuensi  Proporsi\n",
              "0        Wanita        159  0.533557\n",
              "1          Pria        139  0.466443"
            ],
            "text/html": [
              "\n",
              "  <div id=\"df-1ae3cbd7-796a-4bc6-ba80-d3585e4fa685\">\n",
              "    <div class=\"colab-df-container\">\n",
              "      <div>\n",
              "<style scoped>\n",
              "    .dataframe tbody tr th:only-of-type {\n",
              "        vertical-align: middle;\n",
              "    }\n",
              "\n",
              "    .dataframe tbody tr th {\n",
              "        vertical-align: top;\n",
              "    }\n",
              "\n",
              "    .dataframe thead th {\n",
              "        text-align: right;\n",
              "    }\n",
              "</style>\n",
              "<table border=\"1\" class=\"dataframe\">\n",
              "  <thead>\n",
              "    <tr style=\"text-align: right;\">\n",
              "      <th></th>\n",
              "      <th>Jenis Kelamin</th>\n",
              "      <th>Frekuensi</th>\n",
              "      <th>Proporsi</th>\n",
              "    </tr>\n",
              "  </thead>\n",
              "  <tbody>\n",
              "    <tr>\n",
              "      <th>0</th>\n",
              "      <td>Wanita</td>\n",
              "      <td>159</td>\n",
              "      <td>0.533557</td>\n",
              "    </tr>\n",
              "    <tr>\n",
              "      <th>1</th>\n",
              "      <td>Pria</td>\n",
              "      <td>139</td>\n",
              "      <td>0.466443</td>\n",
              "    </tr>\n",
              "  </tbody>\n",
              "</table>\n",
              "</div>\n",
              "      <button class=\"colab-df-convert\" onclick=\"convertToInteractive('df-1ae3cbd7-796a-4bc6-ba80-d3585e4fa685')\"\n",
              "              title=\"Convert this dataframe to an interactive table.\"\n",
              "              style=\"display:none;\">\n",
              "        \n",
              "  <svg xmlns=\"http://www.w3.org/2000/svg\" height=\"24px\"viewBox=\"0 0 24 24\"\n",
              "       width=\"24px\">\n",
              "    <path d=\"M0 0h24v24H0V0z\" fill=\"none\"/>\n",
              "    <path d=\"M18.56 5.44l.94 2.06.94-2.06 2.06-.94-2.06-.94-.94-2.06-.94 2.06-2.06.94zm-11 1L8.5 8.5l.94-2.06 2.06-.94-2.06-.94L8.5 2.5l-.94 2.06-2.06.94zm10 10l.94 2.06.94-2.06 2.06-.94-2.06-.94-.94-2.06-.94 2.06-2.06.94z\"/><path d=\"M17.41 7.96l-1.37-1.37c-.4-.4-.92-.59-1.43-.59-.52 0-1.04.2-1.43.59L10.3 9.45l-7.72 7.72c-.78.78-.78 2.05 0 2.83L4 21.41c.39.39.9.59 1.41.59.51 0 1.02-.2 1.41-.59l7.78-7.78 2.81-2.81c.8-.78.8-2.07 0-2.86zM5.41 20L4 18.59l7.72-7.72 1.47 1.35L5.41 20z\"/>\n",
              "  </svg>\n",
              "      </button>\n",
              "      \n",
              "  <style>\n",
              "    .colab-df-container {\n",
              "      display:flex;\n",
              "      flex-wrap:wrap;\n",
              "      gap: 12px;\n",
              "    }\n",
              "\n",
              "    .colab-df-convert {\n",
              "      background-color: #E8F0FE;\n",
              "      border: none;\n",
              "      border-radius: 50%;\n",
              "      cursor: pointer;\n",
              "      display: none;\n",
              "      fill: #1967D2;\n",
              "      height: 32px;\n",
              "      padding: 0 0 0 0;\n",
              "      width: 32px;\n",
              "    }\n",
              "\n",
              "    .colab-df-convert:hover {\n",
              "      background-color: #E2EBFA;\n",
              "      box-shadow: 0px 1px 2px rgba(60, 64, 67, 0.3), 0px 1px 3px 1px rgba(60, 64, 67, 0.15);\n",
              "      fill: #174EA6;\n",
              "    }\n",
              "\n",
              "    [theme=dark] .colab-df-convert {\n",
              "      background-color: #3B4455;\n",
              "      fill: #D2E3FC;\n",
              "    }\n",
              "\n",
              "    [theme=dark] .colab-df-convert:hover {\n",
              "      background-color: #434B5C;\n",
              "      box-shadow: 0px 1px 3px 1px rgba(0, 0, 0, 0.15);\n",
              "      filter: drop-shadow(0px 1px 2px rgba(0, 0, 0, 0.3));\n",
              "      fill: #FFFFFF;\n",
              "    }\n",
              "  </style>\n",
              "\n",
              "      <script>\n",
              "        const buttonEl =\n",
              "          document.querySelector('#df-1ae3cbd7-796a-4bc6-ba80-d3585e4fa685 button.colab-df-convert');\n",
              "        buttonEl.style.display =\n",
              "          google.colab.kernel.accessAllowed ? 'block' : 'none';\n",
              "\n",
              "        async function convertToInteractive(key) {\n",
              "          const element = document.querySelector('#df-1ae3cbd7-796a-4bc6-ba80-d3585e4fa685');\n",
              "          const dataTable =\n",
              "            await google.colab.kernel.invokeFunction('convertToInteractive',\n",
              "                                                     [key], {});\n",
              "          if (!dataTable) return;\n",
              "\n",
              "          const docLinkHtml = 'Like what you see? Visit the ' +\n",
              "            '<a target=\"_blank\" href=https://colab.research.google.com/notebooks/data_table.ipynb>data table notebook</a>'\n",
              "            + ' to learn more about interactive tables.';\n",
              "          element.innerHTML = '';\n",
              "          dataTable['output_type'] = 'display_data';\n",
              "          await google.colab.output.renderOutput(dataTable, element);\n",
              "          const docLink = document.createElement('div');\n",
              "          docLink.innerHTML = docLinkHtml;\n",
              "          element.appendChild(docLink);\n",
              "        }\n",
              "      </script>\n",
              "    </div>\n",
              "  </div>\n",
              "  "
            ]
          },
          "metadata": {},
          "execution_count": 12
        }
      ]
    },
    {
      "cell_type": "markdown",
      "source": [
        "### Nomor 3"
      ],
      "metadata": {
        "id": "rgkVdBI_y8Cu"
      }
    },
    {
      "cell_type": "markdown",
      "source": [
        "Buat histogram untuk data umur responden."
      ],
      "metadata": {
        "id": "uvMGZsZ5y-Hx"
      }
    },
    {
      "cell_type": "code",
      "source": [
        "Usia = pd.DataFrame(df.iloc[:,1]).reset_index()\n",
        "cond = Usia['Usia'] > 1000.0\n",
        "Usia.loc[cond,'Usia'] = 2022 - Usia['Usia']\n",
        "df.loc[cond,'Usia'] = 2022 - df['Usia']\n",
        "Usia['Usia'].unique()"
      ],
      "metadata": {
        "colab": {
          "base_uri": "https://localhost:8080/"
        },
        "id": "BCYO8xB4zAWN",
        "outputId": "b5ec9538-2b1b-4a98-f819-033effdf1fc4"
      },
      "execution_count": 13,
      "outputs": [
        {
          "output_type": "execute_result",
          "data": {
            "text/plain": [
              "array([31, 24, 21, 19, 49, 23, 45, 18, 42, 20, 47, 41, 54, 56, 14, 36, 34,\n",
              "       30, 17, 48, 32, 26, 40, 53, 22, 50, 44, 51, 43, 39, 52, 61, 38, 28,\n",
              "       57, 29, 59, 25, 27, 46, 16, 63, 58, 33, 60, 35])"
            ]
          },
          "metadata": {},
          "execution_count": 13
        }
      ]
    },
    {
      "cell_type": "code",
      "source": [
        "# Histogram untuk data umur responden\n",
        "sns.histplot(data = Usia, x = 'Usia', bins = 10,binwidth = 5)\n",
        "plt.show()"
      ],
      "metadata": {
        "colab": {
          "base_uri": "https://localhost:8080/",
          "height": 279
        },
        "id": "P_7-HYWCzEyr",
        "outputId": "e1031de5-210f-45b2-ca03-8a64e25d63c9"
      },
      "execution_count": 14,
      "outputs": [
        {
          "output_type": "display_data",
          "data": {
            "text/plain": [
              "<Figure size 432x288 with 1 Axes>"
            ],
            "image/png": "[encoded data removed]"
          },
          "metadata": {
            "needs_background": "light"
          }
        }
      ]
    },
    {
      "cell_type": "markdown",
      "source": [
        "### Nomor 4"
      ],
      "metadata": {
        "id": "JhXSMiiSzJtN"
      }
    },
    {
      "cell_type": "markdown",
      "source": [
        "Buat boxplot untuk data umur responden."
      ],
      "metadata": {
        "id": "eKxQgBmhzKZT"
      }
    },
    {
      "cell_type": "code",
      "source": [
        "# Boxplot untuk data umur responden\n",
        "plt.figure(figsize = (10,6))\n",
        "sns.boxplot(data = Usia, x = 'Usia')\n",
        "plt.show()"
      ],
      "metadata": {
        "colab": {
          "base_uri": "https://localhost:8080/",
          "height": 388
        },
        "id": "YS_D4gBWzMR4",
        "outputId": "e2bde226-d9c3-4dc1-90c8-0aa9acadac05"
      },
      "execution_count": 15,
      "outputs": [
        {
          "output_type": "display_data",
          "data": {
            "text/plain": [
              "<Figure size 720x432 with 1 Axes>"
            ],
            "image/png": "[encoded data removed]"
          },
          "metadata": {
            "needs_background": "light"
          }
        }
      ]
    },
    {
      "cell_type": "markdown",
      "source": [
        "### Nomor 5"
      ],
      "metadata": {
        "id": "R3eYNcRjzTKU"
      }
    },
    {
      "cell_type": "markdown",
      "source": [
        "Identifikasi nilai mean, Q1, Q2/median, Q3, min, max dari data umur responden."
      ],
      "metadata": {
        "id": "fklEycotzT9Z"
      }
    },
    {
      "cell_type": "code",
      "source": [
        "data5 = df[\"Usia\"].describe()\n",
        "\n",
        "print(\"Rata-rata dari umur responden \\t:\", data5[\"mean\"])\n",
        "print(\"Q1 dari umur responden \\t\\t:\", data5[\"25%\"])\n",
        "print(\"Q2 dari umur responden \\t\\t:\", data5[\"50%\"])\n",
        "print(\"Q3 dari umur responden \\t\\t:\", data5[\"75%\"])\n",
        "print(\"Min dari umur responden\\t\\t:\", data5[\"min\"])\n",
        "print(\"Max dari umur responden\\t\\t:\", data5[\"max\"])"
      ],
      "metadata": {
        "colab": {
          "base_uri": "https://localhost:8080/"
        },
        "id": "ChvbbOM9zWVA",
        "outputId": "e51472c0-8247-4c19-c257-23b095736200"
      },
      "execution_count": 16,
      "outputs": [
        {
          "output_type": "stream",
          "name": "stdout",
          "text": [
            "Rata-rata dari umur responden \t: 30.846666666666668\n",
            "Q1 dari umur responden \t\t: 19.0\n",
            "Q2 dari umur responden \t\t: 22.5\n",
            "Q3 dari umur responden \t\t: 45.0\n",
            "Min dari umur responden\t\t: 14.0\n",
            "Max dari umur responden\t\t: 63.0\n"
          ]
        }
      ]
    },
    {
      "cell_type": "markdown",
      "source": [
        "### Nomor 6"
      ],
      "metadata": {
        "id": "Mg7FsMDNzkrx"
      }
    },
    {
      "cell_type": "markdown",
      "source": [
        "Apakah terdapat outlier pada data umur responden. (Definisi outlier : < Q1 – 1.5 IQR atau > Q3 + 1.5 IQR; IQR = Q3 – Q1)."
      ],
      "metadata": {
        "id": "5Y7vob0Nzmhl"
      }
    },
    {
      "cell_type": "code",
      "source": [
        "IQR = data5[\"75%\"] - data5[\"25%\"]\n",
        "print((data5[\"25%\"] - 1.5 * IQR), \"< outliers <\",  (data5[\"75%\"] + 1.5 * IQR))"
      ],
      "metadata": {
        "colab": {
          "base_uri": "https://localhost:8080/"
        },
        "id": "Tb2tegH0zoqt",
        "outputId": "c15927ad-d830-4794-e131-0f30db4a434a"
      },
      "execution_count": 20,
      "outputs": [
        {
          "output_type": "stream",
          "name": "stdout",
          "text": [
            "-20.0 < outliers < 84.0\n"
          ]
        }
      ]
    },
    {
      "cell_type": "markdown",
      "source": [
        "### Nomor 7"
      ],
      "metadata": {
        "id": "wzbgZyl5z97J"
      }
    },
    {
      "cell_type": "markdown",
      "source": [
        "Buat bar chart / pie chart/ donut chart yang menunjukkan perbedaan frekuensi / proporsi profesi responden."
      ],
      "metadata": {
        "id": "oVdiccZo0UN2"
      }
    },
    {
      "cell_type": "code",
      "source": [
        "# Bar chart untuk menunjukkan perbedaan frekuensi / proporsi profesi responden\n",
        "fig , ax = plt.subplots(figsize = (15,10))\n",
        "sns.countplot(data = df, x = 'Pekerjaan', ax = ax)\n",
        "plt.xticks(rotation=90)\n",
        "plt.show()"
      ],
      "metadata": {
        "colab": {
          "base_uri": "https://localhost:8080/",
          "height": 813
        },
        "id": "1sZGl_LB0X34",
        "outputId": "5f799430-a895-4ef3-ae51-fa26a80a6539"
      },
      "execution_count": 21,
      "outputs": [
        {
          "output_type": "display_data",
          "data": {
            "text/plain": [
              "<Figure size 1080x720 with 1 Axes>"
            ],
            "image/png": "[encoded data removed]"
          },
          "metadata": {
            "needs_background": "light"
          }
        }
      ]
    },
    {
      "cell_type": "markdown",
      "source": [
        "### Nomor 8"
      ],
      "metadata": {
        "id": "c_Qp3PK60cDA"
      }
    },
    {
      "cell_type": "markdown",
      "source": [
        "Buat tabel frekuensi dan proporsi untuk profesi responden."
      ],
      "metadata": {
        "id": "yQIveA2P0eJF"
      }
    },
    {
      "cell_type": "code",
      "source": [
        "# Tabel frekuensi dan proporsi untuk profesi responden\n",
        "proporsi_profesi = pd.DataFrame(df.iloc[:,3].value_counts()).reset_index()\n",
        "proporsi_profesi.columns = ['Pekerjaan','Frekuensi']\n",
        "Frekuensi_Total = proporsi_profesi['Frekuensi'].sum()\n",
        "proporsi_profesi['proporsi'] = proporsi_profesi['Frekuensi']/Frekuensi_Total\n",
        "proporsi_profesi"
      ],
      "metadata": {
        "colab": {
          "base_uri": "https://localhost:8080/",
          "height": 676
        },
        "id": "HQc-TT650gET",
        "outputId": "6b674574-a217-47ff-c832-763dc5d5cdfc"
      },
      "execution_count": 22,
      "outputs": [
        {
          "output_type": "execute_result",
          "data": {
            "text/plain": [
              "                                       Pekerjaan  Frekuensi  proporsi\n",
              "0                            Pelajar / Mahasiswa        151  0.505017\n",
              "1                                Karyawan Swasta         72  0.240803\n",
              "2                               Ibu Rumah Tangga         30  0.100334\n",
              "3                                 Pegawai Negeri         13  0.043478\n",
              "4                                      Pengusaha         11  0.036789\n",
              "5   Profesional ( Dokter, Dosen, Pengacara, dll)          7  0.023411\n",
              "6                                     Wiraswasta          2  0.006689\n",
              "7                                       Jurnalis          1  0.003344\n",
              "8                                     Pensiunan           1  0.003344\n",
              "9                                    Wiraswasta           1  0.003344\n",
              "10                                 Karyawan BUMD          1  0.003344\n",
              "11                                          BUMN          1  0.003344\n",
              "12                             Pencari pekerjaan          1  0.003344\n",
              "13                                         Bidan          1  0.003344\n",
              "14                                          guru          1  0.003344\n",
              "15                                 Guru private           1  0.003344\n",
              "16                                    Purnatugas          1  0.003344\n",
              "17                                         Dosen          1  0.003344\n",
              "18                                   Pensiun PNS          1  0.003344\n",
              "19                                       Perawat          1  0.003344"
            ],
            "text/html": [
              "\n",
              "  <div id=\"df-060e2bc5-d960-4eee-97da-b507b8366ab6\">\n",
              "    <div class=\"colab-df-container\">\n",
              "      <div>\n",
              "<style scoped>\n",
              "    .dataframe tbody tr th:only-of-type {\n",
              "        vertical-align: middle;\n",
              "    }\n",
              "\n",
              "    .dataframe tbody tr th {\n",
              "        vertical-align: top;\n",
              "    }\n",
              "\n",
              "    .dataframe thead th {\n",
              "        text-align: right;\n",
              "    }\n",
              "</style>\n",
              "<table border=\"1\" class=\"dataframe\">\n",
              "  <thead>\n",
              "    <tr style=\"text-align: right;\">\n",
              "      <th></th>\n",
              "      <th>Pekerjaan</th>\n",
              "      <th>Frekuensi</th>\n",
              "      <th>proporsi</th>\n",
              "    </tr>\n",
              "  </thead>\n",
              "  <tbody>\n",
              "    <tr>\n",
              "      <th>0</th>\n",
              "      <td>Pelajar / Mahasiswa</td>\n",
              "      <td>151</td>\n",
              "      <td>0.505017</td>\n",
              "    </tr>\n",
              "    <tr>\n",
              "      <th>1</th>\n",
              "      <td>Karyawan Swasta</td>\n",
              "      <td>72</td>\n",
              "      <td>0.240803</td>\n",
              "    </tr>\n",
              "    <tr>\n",
              "      <th>2</th>\n",
              "      <td>Ibu Rumah Tangga</td>\n",
              "      <td>30</td>\n",
              "      <td>0.100334</td>\n",
              "    </tr>\n",
              "    <tr>\n",
              "      <th>3</th>\n",
              "      <td>Pegawai Negeri</td>\n",
              "      <td>13</td>\n",
              "      <td>0.043478</td>\n",
              "    </tr>\n",
              "    <tr>\n",
              "      <th>4</th>\n",
              "      <td>Pengusaha</td>\n",
              "      <td>11</td>\n",
              "      <td>0.036789</td>\n",
              "    </tr>\n",
              "    <tr>\n",
              "      <th>5</th>\n",
              "      <td>Profesional ( Dokter, Dosen, Pengacara, dll)</td>\n",
              "      <td>7</td>\n",
              "      <td>0.023411</td>\n",
              "    </tr>\n",
              "    <tr>\n",
              "      <th>6</th>\n",
              "      <td>Wiraswasta</td>\n",
              "      <td>2</td>\n",
              "      <td>0.006689</td>\n",
              "    </tr>\n",
              "    <tr>\n",
              "      <th>7</th>\n",
              "      <td>Jurnalis</td>\n",
              "      <td>1</td>\n",
              "      <td>0.003344</td>\n",
              "    </tr>\n",
              "    <tr>\n",
              "      <th>8</th>\n",
              "      <td>Pensiunan</td>\n",
              "      <td>1</td>\n",
              "      <td>0.003344</td>\n",
              "    </tr>\n",
              "    <tr>\n",
              "      <th>9</th>\n",
              "      <td>Wiraswasta</td>\n",
              "      <td>1</td>\n",
              "      <td>0.003344</td>\n",
              "    </tr>\n",
              "    <tr>\n",
              "      <th>10</th>\n",
              "      <td>Karyawan BUMD</td>\n",
              "      <td>1</td>\n",
              "      <td>0.003344</td>\n",
              "    </tr>\n",
              "    <tr>\n",
              "      <th>11</th>\n",
              "      <td>BUMN</td>\n",
              "      <td>1</td>\n",
              "      <td>0.003344</td>\n",
              "    </tr>\n",
              "    <tr>\n",
              "      <th>12</th>\n",
              "      <td>Pencari pekerjaan</td>\n",
              "      <td>1</td>\n",
              "      <td>0.003344</td>\n",
              "    </tr>\n",
              "    <tr>\n",
              "      <th>13</th>\n",
              "      <td>Bidan</td>\n",
              "      <td>1</td>\n",
              "      <td>0.003344</td>\n",
              "    </tr>\n",
              "    <tr>\n",
              "      <th>14</th>\n",
              "      <td>guru</td>\n",
              "      <td>1</td>\n",
              "      <td>0.003344</td>\n",
              "    </tr>\n",
              "    <tr>\n",
              "      <th>15</th>\n",
              "      <td>Guru private</td>\n",
              "      <td>1</td>\n",
              "      <td>0.003344</td>\n",
              "    </tr>\n",
              "    <tr>\n",
              "      <th>16</th>\n",
              "      <td>Purnatugas</td>\n",
              "      <td>1</td>\n",
              "      <td>0.003344</td>\n",
              "    </tr>\n",
              "    <tr>\n",
              "      <th>17</th>\n",
              "      <td>Dosen</td>\n",
              "      <td>1</td>\n",
              "      <td>0.003344</td>\n",
              "    </tr>\n",
              "    <tr>\n",
              "      <th>18</th>\n",
              "      <td>Pensiun PNS</td>\n",
              "      <td>1</td>\n",
              "      <td>0.003344</td>\n",
              "    </tr>\n",
              "    <tr>\n",
              "      <th>19</th>\n",
              "      <td>Perawat</td>\n",
              "      <td>1</td>\n",
              "      <td>0.003344</td>\n",
              "    </tr>\n",
              "  </tbody>\n",
              "</table>\n",
              "</div>\n",
              "      <button class=\"colab-df-convert\" onclick=\"convertToInteractive('df-060e2bc5-d960-4eee-97da-b507b8366ab6')\"\n",
              "              title=\"Convert this dataframe to an interactive table.\"\n",
              "              style=\"display:none;\">\n",
              "        \n",
              "  <svg xmlns=\"http://www.w3.org/2000/svg\" height=\"24px\"viewBox=\"0 0 24 24\"\n",
              "       width=\"24px\">\n",
              "    <path d=\"M0 0h24v24H0V0z\" fill=\"none\"/>\n",
              "    <path d=\"M18.56 5.44l.94 2.06.94-2.06 2.06-.94-2.06-.94-.94-2.06-.94 2.06-2.06.94zm-11 1L8.5 8.5l.94-2.06 2.06-.94-2.06-.94L8.5 2.5l-.94 2.06-2.06.94zm10 10l.94 2.06.94-2.06 2.06-.94-2.06-.94-.94-2.06-.94 2.06-2.06.94z\"/><path d=\"M17.41 7.96l-1.37-1.37c-.4-.4-.92-.59-1.43-.59-.52 0-1.04.2-1.43.59L10.3 9.45l-7.72 7.72c-.78.78-.78 2.05 0 2.83L4 21.41c.39.39.9.59 1.41.59.51 0 1.02-.2 1.41-.59l7.78-7.78 2.81-2.81c.8-.78.8-2.07 0-2.86zM5.41 20L4 18.59l7.72-7.72 1.47 1.35L5.41 20z\"/>\n",
              "  </svg>\n",
              "      </button>\n",
              "      \n",
              "  <style>\n",
              "    .colab-df-container {\n",
              "      display:flex;\n",
              "      flex-wrap:wrap;\n",
              "      gap: 12px;\n",
              "    }\n",
              "\n",
              "    .colab-df-convert {\n",
              "      background-color: #E8F0FE;\n",
              "      border: none;\n",
              "      border-radius: 50%;\n",
              "      cursor: pointer;\n",
              "      display: none;\n",
              "      fill: #1967D2;\n",
              "      height: 32px;\n",
              "      padding: 0 0 0 0;\n",
              "      width: 32px;\n",
              "    }\n",
              "\n",
              "    .colab-df-convert:hover {\n",
              "      background-color: #E2EBFA;\n",
              "      box-shadow: 0px 1px 2px rgba(60, 64, 67, 0.3), 0px 1px 3px 1px rgba(60, 64, 67, 0.15);\n",
              "      fill: #174EA6;\n",
              "    }\n",
              "\n",
              "    [theme=dark] .colab-df-convert {\n",
              "      background-color: #3B4455;\n",
              "      fill: #D2E3FC;\n",
              "    }\n",
              "\n",
              "    [theme=dark] .colab-df-convert:hover {\n",
              "      background-color: #434B5C;\n",
              "      box-shadow: 0px 1px 3px 1px rgba(0, 0, 0, 0.15);\n",
              "      filter: drop-shadow(0px 1px 2px rgba(0, 0, 0, 0.3));\n",
              "      fill: #FFFFFF;\n",
              "    }\n",
              "  </style>\n",
              "\n",
              "      <script>\n",
              "        const buttonEl =\n",
              "          document.querySelector('#df-060e2bc5-d960-4eee-97da-b507b8366ab6 button.colab-df-convert');\n",
              "        buttonEl.style.display =\n",
              "          google.colab.kernel.accessAllowed ? 'block' : 'none';\n",
              "\n",
              "        async function convertToInteractive(key) {\n",
              "          const element = document.querySelector('#df-060e2bc5-d960-4eee-97da-b507b8366ab6');\n",
              "          const dataTable =\n",
              "            await google.colab.kernel.invokeFunction('convertToInteractive',\n",
              "                                                     [key], {});\n",
              "          if (!dataTable) return;\n",
              "\n",
              "          const docLinkHtml = 'Like what you see? Visit the ' +\n",
              "            '<a target=\"_blank\" href=https://colab.research.google.com/notebooks/data_table.ipynb>data table notebook</a>'\n",
              "            + ' to learn more about interactive tables.';\n",
              "          element.innerHTML = '';\n",
              "          dataTable['output_type'] = 'display_data';\n",
              "          await google.colab.output.renderOutput(dataTable, element);\n",
              "          const docLink = document.createElement('div');\n",
              "          docLink.innerHTML = docLinkHtml;\n",
              "          element.appendChild(docLink);\n",
              "        }\n",
              "      </script>\n",
              "    </div>\n",
              "  </div>\n",
              "  "
            ]
          },
          "metadata": {},
          "execution_count": 22
        }
      ]
    },
    {
      "cell_type": "markdown",
      "source": [
        "### Nomor 9"
      ],
      "metadata": {
        "id": "F6hDQgAe0kEm"
      }
    },
    {
      "cell_type": "markdown",
      "source": [
        "Buat bar chart / pie chart/ donut chart yang menunjukkan perbedaan frekuensi / proporsi untuk apakah aktivitas online responden meningkat atau tidak dalam 3 bulan terakhir."
      ],
      "metadata": {
        "id": "5HYXUXbB0mHC"
      }
    },
    {
      "cell_type": "code",
      "source": [
        "# Bar chart untuk menunjukkan perbedaan frekuensi / proporsi untuk apakah aktivitas online responden meningkat atau tidak dalam 3 bulan terakhir\n",
        "fig , ax = plt.subplots(figsize = (9,7))\n",
        "sns.countplot(data = df, x='Aktivitas Online Meningkat',ax=ax)\n",
        "plt.show()"
      ],
      "metadata": {
        "colab": {
          "base_uri": "https://localhost:8080/",
          "height": 442
        },
        "id": "64dnBKLD0q5B",
        "outputId": "a6a0ae40-7dbf-49ab-981c-088e59452df0"
      },
      "execution_count": 23,
      "outputs": [
        {
          "output_type": "display_data",
          "data": {
            "text/plain": [
              "<Figure size 648x504 with 1 Axes>"
            ],
            "image/png": "[encoded data removed]"
          },
          "metadata": {
            "needs_background": "light"
          }
        }
      ]
    },
    {
      "cell_type": "markdown",
      "source": [
        "### Nomor 10"
      ],
      "metadata": {
        "id": "epaDNqku0v9P"
      }
    },
    {
      "cell_type": "markdown",
      "source": [
        "Buat tabel frekuensi dan proporsi untuk apakah aktivitas online responden meningkat atau tidak dalam 3 bulan terakhir."
      ],
      "metadata": {
        "id": "rYmrxXGV0wm7"
      }
    },
    {
      "cell_type": "code",
      "source": [
        "# Tabel frekuensi dan proporsi untuk apakah aktivitas online responden meningkat atau tidak dalam 3 bulan terakhir\n",
        "proporsi_aktivitias_online = pd.DataFrame(df.iloc[:,7].value_counts()).reset_index()\n",
        "proporsi_aktivitias_online.columns = ['Aktivitas Online Meningkat','Frekuensi']\n",
        "Frekuensi_Total = proporsi_aktivitias_online['Frekuensi'].sum()\n",
        "proporsi_aktivitias_online['Proporsi'] = proporsi_aktivitias_online['Frekuensi']/Frekuensi_Total\n",
        "proporsi_aktivitias_online"
      ],
      "metadata": {
        "colab": {
          "base_uri": "https://localhost:8080/",
          "height": 143
        },
        "id": "wGNC-7nL0zjn",
        "outputId": "76495613-26b3-4bc7-f9ee-89a09c2c8b3a"
      },
      "execution_count": 24,
      "outputs": [
        {
          "output_type": "execute_result",
          "data": {
            "text/plain": [
              "  Aktivitas Online Meningkat  Frekuensi  Proporsi\n",
              "0                         Ya        131  0.438127\n",
              "1                  Sama saja        120  0.401338\n",
              "2                      Tidak         48  0.160535"
            ],
            "text/html": [
              "\n",
              "  <div id=\"df-030dba74-6620-41e8-bd05-43deee76e6cb\">\n",
              "    <div class=\"colab-df-container\">\n",
              "      <div>\n",
              "<style scoped>\n",
              "    .dataframe tbody tr th:only-of-type {\n",
              "        vertical-align: middle;\n",
              "    }\n",
              "\n",
              "    .dataframe tbody tr th {\n",
              "        vertical-align: top;\n",
              "    }\n",
              "\n",
              "    .dataframe thead th {\n",
              "        text-align: right;\n",
              "    }\n",
              "</style>\n",
              "<table border=\"1\" class=\"dataframe\">\n",
              "  <thead>\n",
              "    <tr style=\"text-align: right;\">\n",
              "      <th></th>\n",
              "      <th>Aktivitas Online Meningkat</th>\n",
              "      <th>Frekuensi</th>\n",
              "      <th>Proporsi</th>\n",
              "    </tr>\n",
              "  </thead>\n",
              "  <tbody>\n",
              "    <tr>\n",
              "      <th>0</th>\n",
              "      <td>Ya</td>\n",
              "      <td>131</td>\n",
              "      <td>0.438127</td>\n",
              "    </tr>\n",
              "    <tr>\n",
              "      <th>1</th>\n",
              "      <td>Sama saja</td>\n",
              "      <td>120</td>\n",
              "      <td>0.401338</td>\n",
              "    </tr>\n",
              "    <tr>\n",
              "      <th>2</th>\n",
              "      <td>Tidak</td>\n",
              "      <td>48</td>\n",
              "      <td>0.160535</td>\n",
              "    </tr>\n",
              "  </tbody>\n",
              "</table>\n",
              "</div>\n",
              "      <button class=\"colab-df-convert\" onclick=\"convertToInteractive('df-030dba74-6620-41e8-bd05-43deee76e6cb')\"\n",
              "              title=\"Convert this dataframe to an interactive table.\"\n",
              "              style=\"display:none;\">\n",
              "        \n",
              "  <svg xmlns=\"http://www.w3.org/2000/svg\" height=\"24px\"viewBox=\"0 0 24 24\"\n",
              "       width=\"24px\">\n",
              "    <path d=\"M0 0h24v24H0V0z\" fill=\"none\"/>\n",
              "    <path d=\"M18.56 5.44l.94 2.06.94-2.06 2.06-.94-2.06-.94-.94-2.06-.94 2.06-2.06.94zm-11 1L8.5 8.5l.94-2.06 2.06-.94-2.06-.94L8.5 2.5l-.94 2.06-2.06.94zm10 10l.94 2.06.94-2.06 2.06-.94-2.06-.94-.94-2.06-.94 2.06-2.06.94z\"/><path d=\"M17.41 7.96l-1.37-1.37c-.4-.4-.92-.59-1.43-.59-.52 0-1.04.2-1.43.59L10.3 9.45l-7.72 7.72c-.78.78-.78 2.05 0 2.83L4 21.41c.39.39.9.59 1.41.59.51 0 1.02-.2 1.41-.59l7.78-7.78 2.81-2.81c.8-.78.8-2.07 0-2.86zM5.41 20L4 18.59l7.72-7.72 1.47 1.35L5.41 20z\"/>\n",
              "  </svg>\n",
              "      </button>\n",
              "      \n",
              "  <style>\n",
              "    .colab-df-container {\n",
              "      display:flex;\n",
              "      flex-wrap:wrap;\n",
              "      gap: 12px;\n",
              "    }\n",
              "\n",
              "    .colab-df-convert {\n",
              "      background-color: #E8F0FE;\n",
              "      border: none;\n",
              "      border-radius: 50%;\n",
              "      cursor: pointer;\n",
              "      display: none;\n",
              "      fill: #1967D2;\n",
              "      height: 32px;\n",
              "      padding: 0 0 0 0;\n",
              "      width: 32px;\n",
              "    }\n",
              "\n",
              "    .colab-df-convert:hover {\n",
              "      background-color: #E2EBFA;\n",
              "      box-shadow: 0px 1px 2px rgba(60, 64, 67, 0.3), 0px 1px 3px 1px rgba(60, 64, 67, 0.15);\n",
              "      fill: #174EA6;\n",
              "    }\n",
              "\n",
              "    [theme=dark] .colab-df-convert {\n",
              "      background-color: #3B4455;\n",
              "      fill: #D2E3FC;\n",
              "    }\n",
              "\n",
              "    [theme=dark] .colab-df-convert:hover {\n",
              "      background-color: #434B5C;\n",
              "      box-shadow: 0px 1px 3px 1px rgba(0, 0, 0, 0.15);\n",
              "      filter: drop-shadow(0px 1px 2px rgba(0, 0, 0, 0.3));\n",
              "      fill: #FFFFFF;\n",
              "    }\n",
              "  </style>\n",
              "\n",
              "      <script>\n",
              "        const buttonEl =\n",
              "          document.querySelector('#df-030dba74-6620-41e8-bd05-43deee76e6cb button.colab-df-convert');\n",
              "        buttonEl.style.display =\n",
              "          google.colab.kernel.accessAllowed ? 'block' : 'none';\n",
              "\n",
              "        async function convertToInteractive(key) {\n",
              "          const element = document.querySelector('#df-030dba74-6620-41e8-bd05-43deee76e6cb');\n",
              "          const dataTable =\n",
              "            await google.colab.kernel.invokeFunction('convertToInteractive',\n",
              "                                                     [key], {});\n",
              "          if (!dataTable) return;\n",
              "\n",
              "          const docLinkHtml = 'Like what you see? Visit the ' +\n",
              "            '<a target=\"_blank\" href=https://colab.research.google.com/notebooks/data_table.ipynb>data table notebook</a>'\n",
              "            + ' to learn more about interactive tables.';\n",
              "          element.innerHTML = '';\n",
              "          dataTable['output_type'] = 'display_data';\n",
              "          await google.colab.output.renderOutput(dataTable, element);\n",
              "          const docLink = document.createElement('div');\n",
              "          docLink.innerHTML = docLinkHtml;\n",
              "          element.appendChild(docLink);\n",
              "        }\n",
              "      </script>\n",
              "    </div>\n",
              "  </div>\n",
              "  "
            ]
          },
          "metadata": {},
          "execution_count": 24
        }
      ]
    },
    {
      "cell_type": "markdown",
      "source": [
        "### Nomor 11 dan Nomor 12"
      ],
      "metadata": {
        "id": "zbmL0BrO04YS"
      }
    },
    {
      "cell_type": "markdown",
      "source": [
        "Buat bar chart yang perbandingan frekuensi/proporsi pengguna 7 bank yang ada di kolom bank_1 sampai bank_7.\n",
        "\n",
        "\n",
        "Buat tabel frekuensi dan proporsi pengguna 7 bank yang ada di kolom bank_1 sampai bank_7."
      ],
      "metadata": {
        "id": "kr8lrUfp06TJ"
      }
    },
    {
      "cell_type": "code",
      "source": [
        "# Preview sejumlah kolom bank menjadi satu tabel frekuensi\n",
        "bank = df.iloc[:,15:22]\n",
        "bank"
      ],
      "metadata": {
        "colab": {
          "base_uri": "https://localhost:8080/",
          "height": 424
        },
        "id": "gu7BFRTE089B",
        "outputId": "aebeae71-008b-434b-e290-709f3a4fb755"
      },
      "execution_count": 25,
      "outputs": [
        {
          "output_type": "execute_result",
          "data": {
            "text/plain": [
              "       bank_1        bank_2    bank_3           bank_4    bank_5 bank_6 bank_7\n",
              "0    Bank BNI  Bank Mandiri  Bank BCA              NaN  Bank BRI    NaN    NaN\n",
              "1    Bank BNI           NaN  Bank BCA              NaN       NaN    NaN    NaN\n",
              "2    Bank BNI           NaN  Bank BCA  Bank CIMB Niaga       NaN    NaN    NaN\n",
              "3         NaN  Bank Mandiri       NaN              NaN       NaN    NaN    NaN\n",
              "4    Bank BNI           NaN       NaN              NaN  Bank BRI    NaN    NaN\n",
              "..        ...           ...       ...              ...       ...    ...    ...\n",
              "295       NaN           NaN  Bank BCA              NaN       NaN    NaN    NaN\n",
              "296       NaN           NaN  Bank BCA              NaN       NaN    NaN    NaN\n",
              "297  Bank BNI           NaN       NaN              NaN  Bank BRI    NaN    NaN\n",
              "298       NaN  Bank Mandiri       NaN              NaN       NaN    NaN    NaN\n",
              "299       NaN           NaN       NaN              NaN       NaN    NaN    NaN\n",
              "\n",
              "[300 rows x 7 columns]"
            ],
            "text/html": [
              "\n",
              "  <div id=\"df-d54d842e-b974-43e6-bd80-3f8a9c2a83d6\">\n",
              "    <div class=\"colab-df-container\">\n",
              "      <div>\n",
              "<style scoped>\n",
              "    .dataframe tbody tr th:only-of-type {\n",
              "        vertical-align: middle;\n",
              "    }\n",
              "\n",
              "    .dataframe tbody tr th {\n",
              "        vertical-align: top;\n",
              "    }\n",
              "\n",
              "    .dataframe thead th {\n",
              "        text-align: right;\n",
              "    }\n",
              "</style>\n",
              "<table border=\"1\" class=\"dataframe\">\n",
              "  <thead>\n",
              "    <tr style=\"text-align: right;\">\n",
              "      <th></th>\n",
              "      <th>bank_1</th>\n",
              "      <th>bank_2</th>\n",
              "      <th>bank_3</th>\n",
              "      <th>bank_4</th>\n",
              "      <th>bank_5</th>\n",
              "      <th>bank_6</th>\n",
              "      <th>bank_7</th>\n",
              "    </tr>\n",
              "  </thead>\n",
              "  <tbody>\n",
              "    <tr>\n",
              "      <th>0</th>\n",
              "      <td>Bank BNI</td>\n",
              "      <td>Bank Mandiri</td>\n",
              "      <td>Bank BCA</td>\n",
              "      <td>NaN</td>\n",
              "      <td>Bank BRI</td>\n",
              "      <td>NaN</td>\n",
              "      <td>NaN</td>\n",
              "    </tr>\n",
              "    <tr>\n",
              "      <th>1</th>\n",
              "      <td>Bank BNI</td>\n",
              "      <td>NaN</td>\n",
              "      <td>Bank BCA</td>\n",
              "      <td>NaN</td>\n",
              "      <td>NaN</td>\n",
              "      <td>NaN</td>\n",
              "      <td>NaN</td>\n",
              "    </tr>\n",
              "    <tr>\n",
              "      <th>2</th>\n",
              "      <td>Bank BNI</td>\n",
              "      <td>NaN</td>\n",
              "      <td>Bank BCA</td>\n",
              "      <td>Bank CIMB Niaga</td>\n",
              "      <td>NaN</td>\n",
              "      <td>NaN</td>\n",
              "      <td>NaN</td>\n",
              "    </tr>\n",
              "    <tr>\n",
              "      <th>3</th>\n",
              "      <td>NaN</td>\n",
              "      <td>Bank Mandiri</td>\n",
              "      <td>NaN</td>\n",
              "      <td>NaN</td>\n",
              "      <td>NaN</td>\n",
              "      <td>NaN</td>\n",
              "      <td>NaN</td>\n",
              "    </tr>\n",
              "    <tr>\n",
              "      <th>4</th>\n",
              "      <td>Bank BNI</td>\n",
              "      <td>NaN</td>\n",
              "      <td>NaN</td>\n",
              "      <td>NaN</td>\n",
              "      <td>Bank BRI</td>\n",
              "      <td>NaN</td>\n",
              "      <td>NaN</td>\n",
              "    </tr>\n",
              "    <tr>\n",
              "      <th>...</th>\n",
              "      <td>...</td>\n",
              "      <td>...</td>\n",
              "      <td>...</td>\n",
              "      <td>...</td>\n",
              "      <td>...</td>\n",
              "      <td>...</td>\n",
              "      <td>...</td>\n",
              "    </tr>\n",
              "    <tr>\n",
              "      <th>295</th>\n",
              "      <td>NaN</td>\n",
              "      <td>NaN</td>\n",
              "      <td>Bank BCA</td>\n",
              "      <td>NaN</td>\n",
              "      <td>NaN</td>\n",
              "      <td>NaN</td>\n",
              "      <td>NaN</td>\n",
              "    </tr>\n",
              "    <tr>\n",
              "      <th>296</th>\n",
              "      <td>NaN</td>\n",
              "      <td>NaN</td>\n",
              "      <td>Bank BCA</td>\n",
              "      <td>NaN</td>\n",
              "      <td>NaN</td>\n",
              "      <td>NaN</td>\n",
              "      <td>NaN</td>\n",
              "    </tr>\n",
              "    <tr>\n",
              "      <th>297</th>\n",
              "      <td>Bank BNI</td>\n",
              "      <td>NaN</td>\n",
              "      <td>NaN</td>\n",
              "      <td>NaN</td>\n",
              "      <td>Bank BRI</td>\n",
              "      <td>NaN</td>\n",
              "      <td>NaN</td>\n",
              "    </tr>\n",
              "    <tr>\n",
              "      <th>298</th>\n",
              "      <td>NaN</td>\n",
              "      <td>Bank Mandiri</td>\n",
              "      <td>NaN</td>\n",
              "      <td>NaN</td>\n",
              "      <td>NaN</td>\n",
              "      <td>NaN</td>\n",
              "      <td>NaN</td>\n",
              "    </tr>\n",
              "    <tr>\n",
              "      <th>299</th>\n",
              "      <td>NaN</td>\n",
              "      <td>NaN</td>\n",
              "      <td>NaN</td>\n",
              "      <td>NaN</td>\n",
              "      <td>NaN</td>\n",
              "      <td>NaN</td>\n",
              "      <td>NaN</td>\n",
              "    </tr>\n",
              "  </tbody>\n",
              "</table>\n",
              "<p>300 rows × 7 columns</p>\n",
              "</div>\n",
              "      <button class=\"colab-df-convert\" onclick=\"convertToInteractive('df-d54d842e-b974-43e6-bd80-3f8a9c2a83d6')\"\n",
              "              title=\"Convert this dataframe to an interactive table.\"\n",
              "              style=\"display:none;\">\n",
              "        \n",
              "  <svg xmlns=\"http://www.w3.org/2000/svg\" height=\"24px\"viewBox=\"0 0 24 24\"\n",
              "       width=\"24px\">\n",
              "    <path d=\"M0 0h24v24H0V0z\" fill=\"none\"/>\n",
              "    <path d=\"M18.56 5.44l.94 2.06.94-2.06 2.06-.94-2.06-.94-.94-2.06-.94 2.06-2.06.94zm-11 1L8.5 8.5l.94-2.06 2.06-.94-2.06-.94L8.5 2.5l-.94 2.06-2.06.94zm10 10l.94 2.06.94-2.06 2.06-.94-2.06-.94-.94-2.06-.94 2.06-2.06.94z\"/><path d=\"M17.41 7.96l-1.37-1.37c-.4-.4-.92-.59-1.43-.59-.52 0-1.04.2-1.43.59L10.3 9.45l-7.72 7.72c-.78.78-.78 2.05 0 2.83L4 21.41c.39.39.9.59 1.41.59.51 0 1.02-.2 1.41-.59l7.78-7.78 2.81-2.81c.8-.78.8-2.07 0-2.86zM5.41 20L4 18.59l7.72-7.72 1.47 1.35L5.41 20z\"/>\n",
              "  </svg>\n",
              "      </button>\n",
              "      \n",
              "  <style>\n",
              "    .colab-df-container {\n",
              "      display:flex;\n",
              "      flex-wrap:wrap;\n",
              "      gap: 12px;\n",
              "    }\n",
              "\n",
              "    .colab-df-convert {\n",
              "      background-color: #E8F0FE;\n",
              "      border: none;\n",
              "      border-radius: 50%;\n",
              "      cursor: pointer;\n",
              "      display: none;\n",
              "      fill: #1967D2;\n",
              "      height: 32px;\n",
              "      padding: 0 0 0 0;\n",
              "      width: 32px;\n",
              "    }\n",
              "\n",
              "    .colab-df-convert:hover {\n",
              "      background-color: #E2EBFA;\n",
              "      box-shadow: 0px 1px 2px rgba(60, 64, 67, 0.3), 0px 1px 3px 1px rgba(60, 64, 67, 0.15);\n",
              "      fill: #174EA6;\n",
              "    }\n",
              "\n",
              "    [theme=dark] .colab-df-convert {\n",
              "      background-color: #3B4455;\n",
              "      fill: #D2E3FC;\n",
              "    }\n",
              "\n",
              "    [theme=dark] .colab-df-convert:hover {\n",
              "      background-color: #434B5C;\n",
              "      box-shadow: 0px 1px 3px 1px rgba(0, 0, 0, 0.15);\n",
              "      filter: drop-shadow(0px 1px 2px rgba(0, 0, 0, 0.3));\n",
              "      fill: #FFFFFF;\n",
              "    }\n",
              "  </style>\n",
              "\n",
              "      <script>\n",
              "        const buttonEl =\n",
              "          document.querySelector('#df-d54d842e-b974-43e6-bd80-3f8a9c2a83d6 button.colab-df-convert');\n",
              "        buttonEl.style.display =\n",
              "          google.colab.kernel.accessAllowed ? 'block' : 'none';\n",
              "\n",
              "        async function convertToInteractive(key) {\n",
              "          const element = document.querySelector('#df-d54d842e-b974-43e6-bd80-3f8a9c2a83d6');\n",
              "          const dataTable =\n",
              "            await google.colab.kernel.invokeFunction('convertToInteractive',\n",
              "                                                     [key], {});\n",
              "          if (!dataTable) return;\n",
              "\n",
              "          const docLinkHtml = 'Like what you see? Visit the ' +\n",
              "            '<a target=\"_blank\" href=https://colab.research.google.com/notebooks/data_table.ipynb>data table notebook</a>'\n",
              "            + ' to learn more about interactive tables.';\n",
              "          element.innerHTML = '';\n",
              "          dataTable['output_type'] = 'display_data';\n",
              "          await google.colab.output.renderOutput(dataTable, element);\n",
              "          const docLink = document.createElement('div');\n",
              "          docLink.innerHTML = docLinkHtml;\n",
              "          element.appendChild(docLink);\n",
              "        }\n",
              "      </script>\n",
              "    </div>\n",
              "  </div>\n",
              "  "
            ]
          },
          "metadata": {},
          "execution_count": 25
        }
      ]
    },
    {
      "cell_type": "code",
      "source": [
        "# Menggabungkan semua kolom bank menjadi satu data\n",
        "a = []\n",
        "for col in bank.columns :\n",
        "    a += list(df[col])\n",
        "proporsi_bank = pd.DataFrame(pd.Series(a).value_counts()).reset_index()\n",
        "proporsi_bank.columns = ['Bank','Frekuensi']\n",
        "proporsi_bank['Proporsi'] = proporsi_bank['Frekuensi']/Responden\n",
        "proporsi_bank"
      ],
      "metadata": {
        "colab": {
          "base_uri": "https://localhost:8080/",
          "height": 269
        },
        "id": "vUMq_PPx0_ue",
        "outputId": "4a5e8616-3a0d-40a6-9b4d-d41692082980"
      },
      "execution_count": 27,
      "outputs": [
        {
          "output_type": "execute_result",
          "data": {
            "text/plain": [
              "              Bank  Frekuensi  Proporsi\n",
              "0         Bank BCA        175  0.583333\n",
              "1     Bank Mandiri         88  0.293333\n",
              "2         Bank BNI         73  0.243333\n",
              "3         Bank BRI         63  0.210000\n",
              "4  Bank CIMB Niaga         13  0.043333\n",
              "5     Bank Permata          8  0.026667\n",
              "6         Bank BTN          7  0.023333"
            ],
            "text/html": [
              "\n",
              "  <div id=\"df-f69b44cb-5604-4a5f-a50b-4e013be0bb43\">\n",
              "    <div class=\"colab-df-container\">\n",
              "      <div>\n",
              "<style scoped>\n",
              "    .dataframe tbody tr th:only-of-type {\n",
              "        vertical-align: middle;\n",
              "    }\n",
              "\n",
              "    .dataframe tbody tr th {\n",
              "        vertical-align: top;\n",
              "    }\n",
              "\n",
              "    .dataframe thead th {\n",
              "        text-align: right;\n",
              "    }\n",
              "</style>\n",
              "<table border=\"1\" class=\"dataframe\">\n",
              "  <thead>\n",
              "    <tr style=\"text-align: right;\">\n",
              "      <th></th>\n",
              "      <th>Bank</th>\n",
              "      <th>Frekuensi</th>\n",
              "      <th>Proporsi</th>\n",
              "    </tr>\n",
              "  </thead>\n",
              "  <tbody>\n",
              "    <tr>\n",
              "      <th>0</th>\n",
              "      <td>Bank BCA</td>\n",
              "      <td>175</td>\n",
              "      <td>0.583333</td>\n",
              "    </tr>\n",
              "    <tr>\n",
              "      <th>1</th>\n",
              "      <td>Bank Mandiri</td>\n",
              "      <td>88</td>\n",
              "      <td>0.293333</td>\n",
              "    </tr>\n",
              "    <tr>\n",
              "      <th>2</th>\n",
              "      <td>Bank BNI</td>\n",
              "      <td>73</td>\n",
              "      <td>0.243333</td>\n",
              "    </tr>\n",
              "    <tr>\n",
              "      <th>3</th>\n",
              "      <td>Bank BRI</td>\n",
              "      <td>63</td>\n",
              "      <td>0.210000</td>\n",
              "    </tr>\n",
              "    <tr>\n",
              "      <th>4</th>\n",
              "      <td>Bank CIMB Niaga</td>\n",
              "      <td>13</td>\n",
              "      <td>0.043333</td>\n",
              "    </tr>\n",
              "    <tr>\n",
              "      <th>5</th>\n",
              "      <td>Bank Permata</td>\n",
              "      <td>8</td>\n",
              "      <td>0.026667</td>\n",
              "    </tr>\n",
              "    <tr>\n",
              "      <th>6</th>\n",
              "      <td>Bank BTN</td>\n",
              "      <td>7</td>\n",
              "      <td>0.023333</td>\n",
              "    </tr>\n",
              "  </tbody>\n",
              "</table>\n",
              "</div>\n",
              "      <button class=\"colab-df-convert\" onclick=\"convertToInteractive('df-f69b44cb-5604-4a5f-a50b-4e013be0bb43')\"\n",
              "              title=\"Convert this dataframe to an interactive table.\"\n",
              "              style=\"display:none;\">\n",
              "        \n",
              "  <svg xmlns=\"http://www.w3.org/2000/svg\" height=\"24px\"viewBox=\"0 0 24 24\"\n",
              "       width=\"24px\">\n",
              "    <path d=\"M0 0h24v24H0V0z\" fill=\"none\"/>\n",
              "    <path d=\"M18.56 5.44l.94 2.06.94-2.06 2.06-.94-2.06-.94-.94-2.06-.94 2.06-2.06.94zm-11 1L8.5 8.5l.94-2.06 2.06-.94-2.06-.94L8.5 2.5l-.94 2.06-2.06.94zm10 10l.94 2.06.94-2.06 2.06-.94-2.06-.94-.94-2.06-.94 2.06-2.06.94z\"/><path d=\"M17.41 7.96l-1.37-1.37c-.4-.4-.92-.59-1.43-.59-.52 0-1.04.2-1.43.59L10.3 9.45l-7.72 7.72c-.78.78-.78 2.05 0 2.83L4 21.41c.39.39.9.59 1.41.59.51 0 1.02-.2 1.41-.59l7.78-7.78 2.81-2.81c.8-.78.8-2.07 0-2.86zM5.41 20L4 18.59l7.72-7.72 1.47 1.35L5.41 20z\"/>\n",
              "  </svg>\n",
              "      </button>\n",
              "      \n",
              "  <style>\n",
              "    .colab-df-container {\n",
              "      display:flex;\n",
              "      flex-wrap:wrap;\n",
              "      gap: 12px;\n",
              "    }\n",
              "\n",
              "    .colab-df-convert {\n",
              "      background-color: #E8F0FE;\n",
              "      border: none;\n",
              "      border-radius: 50%;\n",
              "      cursor: pointer;\n",
              "      display: none;\n",
              "      fill: #1967D2;\n",
              "      height: 32px;\n",
              "      padding: 0 0 0 0;\n",
              "      width: 32px;\n",
              "    }\n",
              "\n",
              "    .colab-df-convert:hover {\n",
              "      background-color: #E2EBFA;\n",
              "      box-shadow: 0px 1px 2px rgba(60, 64, 67, 0.3), 0px 1px 3px 1px rgba(60, 64, 67, 0.15);\n",
              "      fill: #174EA6;\n",
              "    }\n",
              "\n",
              "    [theme=dark] .colab-df-convert {\n",
              "      background-color: #3B4455;\n",
              "      fill: #D2E3FC;\n",
              "    }\n",
              "\n",
              "    [theme=dark] .colab-df-convert:hover {\n",
              "      background-color: #434B5C;\n",
              "      box-shadow: 0px 1px 3px 1px rgba(0, 0, 0, 0.15);\n",
              "      filter: drop-shadow(0px 1px 2px rgba(0, 0, 0, 0.3));\n",
              "      fill: #FFFFFF;\n",
              "    }\n",
              "  </style>\n",
              "\n",
              "      <script>\n",
              "        const buttonEl =\n",
              "          document.querySelector('#df-f69b44cb-5604-4a5f-a50b-4e013be0bb43 button.colab-df-convert');\n",
              "        buttonEl.style.display =\n",
              "          google.colab.kernel.accessAllowed ? 'block' : 'none';\n",
              "\n",
              "        async function convertToInteractive(key) {\n",
              "          const element = document.querySelector('#df-f69b44cb-5604-4a5f-a50b-4e013be0bb43');\n",
              "          const dataTable =\n",
              "            await google.colab.kernel.invokeFunction('convertToInteractive',\n",
              "                                                     [key], {});\n",
              "          if (!dataTable) return;\n",
              "\n",
              "          const docLinkHtml = 'Like what you see? Visit the ' +\n",
              "            '<a target=\"_blank\" href=https://colab.research.google.com/notebooks/data_table.ipynb>data table notebook</a>'\n",
              "            + ' to learn more about interactive tables.';\n",
              "          element.innerHTML = '';\n",
              "          dataTable['output_type'] = 'display_data';\n",
              "          await google.colab.output.renderOutput(dataTable, element);\n",
              "          const docLink = document.createElement('div');\n",
              "          docLink.innerHTML = docLinkHtml;\n",
              "          element.appendChild(docLink);\n",
              "        }\n",
              "      </script>\n",
              "    </div>\n",
              "  </div>\n",
              "  "
            ]
          },
          "metadata": {},
          "execution_count": 27
        }
      ]
    },
    {
      "cell_type": "code",
      "source": [
        "# Bar chart yang perbandingan frekuensi/proporsi pengguna 7 bank yang ada di kolom bank_1 sampai bank_7\n",
        "fig , ax = plt.subplots(figsize = (9,7))\n",
        "sns.barplot(data = proporsi_bank, x = 'Bank', y='Frekuensi',ax=ax)\n",
        "plt.xticks(rotation=45)\n",
        "plt.show()"
      ],
      "metadata": {
        "colab": {
          "base_uri": "https://localhost:8080/",
          "height": 500
        },
        "id": "GITeiqbn1N93",
        "outputId": "04f130e3-cf24-4410-ef13-fe6ebbdb556c"
      },
      "execution_count": 28,
      "outputs": [
        {
          "output_type": "display_data",
          "data": {
            "text/plain": [
              "<Figure size 648x504 with 1 Axes>"
            ],
            "image/png": "[encoded data removed]"
          },
          "metadata": {
            "needs_background": "light"
          }
        }
      ]
    },
    {
      "cell_type": "markdown",
      "source": [
        "### Nomor 13"
      ],
      "metadata": {
        "id": "nVpGiC3v1RUi"
      }
    },
    {
      "cell_type": "markdown",
      "source": [
        "Hitung confidence interval 95% untuk proporsi pengguna Bank BCA."
      ],
      "metadata": {
        "id": "O7TBKezD1U3-"
      }
    },
    {
      "cell_type": "code",
      "source": [
        "p_BCA = float(proporsi_bank[\"Proporsi\"].loc[proporsi_bank[\"Bank\"] == \"Bank BCA\"])\n",
        "q_BCA = 1 - p_BCA\n",
        "n_BCA = proporsi_bank[\"Frekuensi\"].sum()\n",
        "alpha_BCA = 1 - 0.95\n",
        "z_alpha_BCA = st.norm.ppf(1 - alpha_BCA/2, loc = 0, scale = 1)\n",
        "e_BCA = z_alpha_BCA * m.sqrt((p_BCA * q_BCA) / n_BCA)\n",
        "print(f\"Confidence interval 95% untuk proporsi pengguna Bank BCA:\\n{round(p_BCA - e_BCA, 5)} < pBCA < {round(p_BCA + e_BCA, 5)}\")"
      ],
      "metadata": {
        "colab": {
          "base_uri": "https://localhost:8080/"
        },
        "id": "-nfc_Q9v1V7d",
        "outputId": "5aa39525-2b4a-4bf0-ed25-f9e4a780a98d"
      },
      "execution_count": 29,
      "outputs": [
        {
          "output_type": "stream",
          "name": "stdout",
          "text": [
            "Confidence interval 95% untuk proporsi pengguna Bank BCA:\n",
            "0.53657 < pBCA < 0.63009\n"
          ]
        }
      ]
    },
    {
      "cell_type": "markdown",
      "source": [
        "### Nomor 14"
      ],
      "metadata": {
        "id": "T5AKe2KV1aja"
      }
    },
    {
      "cell_type": "markdown",
      "source": [
        "Lakukan uji hipotesis berikut : \n",
        "\n",
        "H0 : pBCA = 0.5\n",
        "\n",
        "H1 : pBCA != 0.5\n",
        "\n",
        "alpha = 5%"
      ],
      "metadata": {
        "id": "6PDjnYx71c11"
      }
    },
    {
      "cell_type": "code",
      "source": [
        "p0_BCA = 0.5\n",
        "q0_BCA = 1 - p0_BCA\n",
        "z_BCA = (n_BCA * p_BCA - n_BCA * p0_BCA) / m.sqrt(n_BCA * p0_BCA * (q0_BCA))\n",
        "print(f\"Critical region\\t: z < {round(-z_alpha_BCA, 5)} atau z > {round(z_alpha_BCA, 5)}\")\n",
        "print(f\"Z\\t\\t: {round(z_BCA, 5)}\")\n",
        "print(\"Kesimpulan\\t:\", end = \" \")\n",
        "if (z_BCA < -z_alpha_BCA or z_BCA > z_alpha_BCA) :\n",
        "  print(\"H0 berhasil ditolak\")\n",
        "else :\n",
        "  print(\"H0 gagal ditolak\")\n",
        "print(f\"P Value\\t\\t: {2 * (1 - st.norm.cdf(abs(z_BCA), loc = 0, scale = 1))}\")"
      ],
      "metadata": {
        "colab": {
          "base_uri": "https://localhost:8080/"
        },
        "id": "VXmTxJoY1fLC",
        "outputId": "89b2075f-a4bc-432f-a550-8c4feb406a41"
      },
      "execution_count": 30,
      "outputs": [
        {
          "output_type": "stream",
          "name": "stdout",
          "text": [
            "Critical region\t: z < -1.95996 atau z > 1.95996\n",
            "Z\t\t: 3.444\n",
            "Kesimpulan\t: H0 berhasil ditolak\n",
            "P Value\t\t: 0.0005731833624416094\n"
          ]
        }
      ]
    },
    {
      "cell_type": "markdown",
      "source": [
        "### Nomor 15"
      ],
      "metadata": {
        "id": "iH6kfQJr1jh5"
      }
    },
    {
      "cell_type": "markdown",
      "source": [
        "Buat bar chart yang menunjukkan perbedaan frekuensi / proporsi untuk preferensi channel yang dipilih responden untuk melakukan “Transfer antar bank”."
      ],
      "metadata": {
        "id": "oqVco5ap1l6B"
      }
    },
    {
      "cell_type": "code",
      "source": [
        "# Bar chart yang menunjukkan perbedaan frekuensi / proporsi untuk preferensi channel yang dipilih responden untuk melakukan “Transfer antar bank”\n",
        "fig , ax = plt.subplots(figsize = (9,7))\n",
        "sns.countplot(data = df, x='19. Manakah channel/ layanan yang lebih Anda sukai ketika Anda akan menggunakan fitur-fitur layanan perbankan berikut? [Transfer antar bank]',ax=ax)\n",
        "plt.xlabel(\"Channel untuk transfer antarbank\")\n",
        "plt.xticks(rotation=45)\n",
        "plt.show()"
      ],
      "metadata": {
        "colab": {
          "base_uri": "https://localhost:8080/",
          "height": 499
        },
        "id": "PPjEApj61oEa",
        "outputId": "d77b5460-6052-4c07-d7e6-c2c7baa670e4"
      },
      "execution_count": 31,
      "outputs": [
        {
          "output_type": "display_data",
          "data": {
            "text/plain": [
              "<Figure size 648x504 with 1 Axes>"
            ],
            "image/png": "[encoded data removed]"
          },
          "metadata": {
            "needs_background": "light"
          }
        }
      ]
    },
    {
      "cell_type": "markdown",
      "source": [
        "### Nomor 16"
      ],
      "metadata": {
        "id": "c7dbVgsp1qyV"
      }
    },
    {
      "cell_type": "markdown",
      "source": [
        "Buat tabel frekuensi dan proporsi untuk preferensi channel yang dipilih responden untuk melakukan “Transfer antar bank”."
      ],
      "metadata": {
        "id": "KuEf7UjO1s0K"
      }
    },
    {
      "cell_type": "code",
      "source": [
        "# Tabel frekuensi dan proporsi untuk preferensi channel yang dipilih responden untuk melakukan “Transfer antar bank”\n",
        "proporsi_channel_tfbank = pd.DataFrame(df.iloc[:,30].value_counts()).reset_index()\n",
        "proporsi_channel_tfbank.columns = ['Channel untuk transfer antarbank','Frekuensi']\n",
        "Frekuensi_Total = proporsi_channel_tfbank['Frekuensi'].sum()\n",
        "proporsi_channel_tfbank['Proporsi'] = proporsi_channel_tfbank['Frekuensi']/Frekuensi_Total\n",
        "proporsi_channel_tfbank"
      ],
      "metadata": {
        "colab": {
          "base_uri": "https://localhost:8080/",
          "height": 143
        },
        "id": "tYhWkFcP1ut9",
        "outputId": "71d598e1-ab31-49f7-8982-cc0da92a0ada"
      },
      "execution_count": 32,
      "outputs": [
        {
          "output_type": "execute_result",
          "data": {
            "text/plain": [
              "  Channel untuk transfer antarbank  Frekuensi  Proporsi\n",
              "0                   Mobile Banking        206  0.789272\n",
              "1                              ATM         31  0.118774\n",
              "2                 Internet Banking         24  0.091954"
            ],
            "text/html": [
              "\n",
              "  <div id=\"df-59e459bd-a931-4022-808f-0b45733fe2f3\">\n",
              "    <div class=\"colab-df-container\">\n",
              "      <div>\n",
              "<style scoped>\n",
              "    .dataframe tbody tr th:only-of-type {\n",
              "        vertical-align: middle;\n",
              "    }\n",
              "\n",
              "    .dataframe tbody tr th {\n",
              "        vertical-align: top;\n",
              "    }\n",
              "\n",
              "    .dataframe thead th {\n",
              "        text-align: right;\n",
              "    }\n",
              "</style>\n",
              "<table border=\"1\" class=\"dataframe\">\n",
              "  <thead>\n",
              "    <tr style=\"text-align: right;\">\n",
              "      <th></th>\n",
              "      <th>Channel untuk transfer antarbank</th>\n",
              "      <th>Frekuensi</th>\n",
              "      <th>Proporsi</th>\n",
              "    </tr>\n",
              "  </thead>\n",
              "  <tbody>\n",
              "    <tr>\n",
              "      <th>0</th>\n",
              "      <td>Mobile Banking</td>\n",
              "      <td>206</td>\n",
              "      <td>0.789272</td>\n",
              "    </tr>\n",
              "    <tr>\n",
              "      <th>1</th>\n",
              "      <td>ATM</td>\n",
              "      <td>31</td>\n",
              "      <td>0.118774</td>\n",
              "    </tr>\n",
              "    <tr>\n",
              "      <th>2</th>\n",
              "      <td>Internet Banking</td>\n",
              "      <td>24</td>\n",
              "      <td>0.091954</td>\n",
              "    </tr>\n",
              "  </tbody>\n",
              "</table>\n",
              "</div>\n",
              "      <button class=\"colab-df-convert\" onclick=\"convertToInteractive('df-59e459bd-a931-4022-808f-0b45733fe2f3')\"\n",
              "              title=\"Convert this dataframe to an interactive table.\"\n",
              "              style=\"display:none;\">\n",
              "        \n",
              "  <svg xmlns=\"http://www.w3.org/2000/svg\" height=\"24px\"viewBox=\"0 0 24 24\"\n",
              "       width=\"24px\">\n",
              "    <path d=\"M0 0h24v24H0V0z\" fill=\"none\"/>\n",
              "    <path d=\"M18.56 5.44l.94 2.06.94-2.06 2.06-.94-2.06-.94-.94-2.06-.94 2.06-2.06.94zm-11 1L8.5 8.5l.94-2.06 2.06-.94-2.06-.94L8.5 2.5l-.94 2.06-2.06.94zm10 10l.94 2.06.94-2.06 2.06-.94-2.06-.94-.94-2.06-.94 2.06-2.06.94z\"/><path d=\"M17.41 7.96l-1.37-1.37c-.4-.4-.92-.59-1.43-.59-.52 0-1.04.2-1.43.59L10.3 9.45l-7.72 7.72c-.78.78-.78 2.05 0 2.83L4 21.41c.39.39.9.59 1.41.59.51 0 1.02-.2 1.41-.59l7.78-7.78 2.81-2.81c.8-.78.8-2.07 0-2.86zM5.41 20L4 18.59l7.72-7.72 1.47 1.35L5.41 20z\"/>\n",
              "  </svg>\n",
              "      </button>\n",
              "      \n",
              "  <style>\n",
              "    .colab-df-container {\n",
              "      display:flex;\n",
              "      flex-wrap:wrap;\n",
              "      gap: 12px;\n",
              "    }\n",
              "\n",
              "    .colab-df-convert {\n",
              "      background-color: #E8F0FE;\n",
              "      border: none;\n",
              "      border-radius: 50%;\n",
              "      cursor: pointer;\n",
              "      display: none;\n",
              "      fill: #1967D2;\n",
              "      height: 32px;\n",
              "      padding: 0 0 0 0;\n",
              "      width: 32px;\n",
              "    }\n",
              "\n",
              "    .colab-df-convert:hover {\n",
              "      background-color: #E2EBFA;\n",
              "      box-shadow: 0px 1px 2px rgba(60, 64, 67, 0.3), 0px 1px 3px 1px rgba(60, 64, 67, 0.15);\n",
              "      fill: #174EA6;\n",
              "    }\n",
              "\n",
              "    [theme=dark] .colab-df-convert {\n",
              "      background-color: #3B4455;\n",
              "      fill: #D2E3FC;\n",
              "    }\n",
              "\n",
              "    [theme=dark] .colab-df-convert:hover {\n",
              "      background-color: #434B5C;\n",
              "      box-shadow: 0px 1px 3px 1px rgba(0, 0, 0, 0.15);\n",
              "      filter: drop-shadow(0px 1px 2px rgba(0, 0, 0, 0.3));\n",
              "      fill: #FFFFFF;\n",
              "    }\n",
              "  </style>\n",
              "\n",
              "      <script>\n",
              "        const buttonEl =\n",
              "          document.querySelector('#df-59e459bd-a931-4022-808f-0b45733fe2f3 button.colab-df-convert');\n",
              "        buttonEl.style.display =\n",
              "          google.colab.kernel.accessAllowed ? 'block' : 'none';\n",
              "\n",
              "        async function convertToInteractive(key) {\n",
              "          const element = document.querySelector('#df-59e459bd-a931-4022-808f-0b45733fe2f3');\n",
              "          const dataTable =\n",
              "            await google.colab.kernel.invokeFunction('convertToInteractive',\n",
              "                                                     [key], {});\n",
              "          if (!dataTable) return;\n",
              "\n",
              "          const docLinkHtml = 'Like what you see? Visit the ' +\n",
              "            '<a target=\"_blank\" href=https://colab.research.google.com/notebooks/data_table.ipynb>data table notebook</a>'\n",
              "            + ' to learn more about interactive tables.';\n",
              "          element.innerHTML = '';\n",
              "          dataTable['output_type'] = 'display_data';\n",
              "          await google.colab.output.renderOutput(dataTable, element);\n",
              "          const docLink = document.createElement('div');\n",
              "          docLink.innerHTML = docLinkHtml;\n",
              "          element.appendChild(docLink);\n",
              "        }\n",
              "      </script>\n",
              "    </div>\n",
              "  </div>\n",
              "  "
            ]
          },
          "metadata": {},
          "execution_count": 32
        }
      ]
    },
    {
      "cell_type": "markdown",
      "source": [
        "### Nomor 17 dan Nomor 18"
      ],
      "metadata": {
        "id": "PmkvA0hh1yti"
      }
    },
    {
      "cell_type": "markdown",
      "source": [
        "Buat bar chart yang perbandingan frekuensi/proporsi pengguna 7 emoney yang ada di kolom emoney_pilihan_1 sampai emoney_pilihan_7 (8 – 11 tidak usah)\n",
        "\n",
        "Buat tabel frekuensi dan proporsi pengguna 7 emoney yang ada di kolom emoney_pilihan_1 sampai emoney_pilihan_7 (8 – 11 tidak usah)"
      ],
      "metadata": {
        "id": "ZV7cXxBH10zY"
      }
    },
    {
      "cell_type": "code",
      "source": [
        "# Priview sejumlah kolom emoney menjadi satu tabel frekuensi\n",
        "emoney = df.iloc[:,37:44]\n",
        "emoney"
      ],
      "metadata": {
        "colab": {
          "base_uri": "https://localhost:8080/",
          "height": 424
        },
        "id": "uRIyjxch13W0",
        "outputId": "9fbe2f1b-58c9-4a07-e644-f93b3b8ebdfc"
      },
      "execution_count": 33,
      "outputs": [
        {
          "output_type": "execute_result",
          "data": {
            "text/plain": [
              "    emoney_pilihan_1 emoney_pilihan_2 emoney_pilihan_3 emoney_pilihan_4  \\\n",
              "0                NaN              NaN              NaN              NaN   \n",
              "1                NaN        ShopeePay              NaN              NaN   \n",
              "2              GoPay        ShopeePay              OVO             Dana   \n",
              "3                NaN              NaN              OVO              NaN   \n",
              "4              GoPay        ShopeePay              OVO             Dana   \n",
              "..               ...              ...              ...              ...   \n",
              "295            GoPay              NaN              NaN              NaN   \n",
              "296            GoPay              NaN              OVO              NaN   \n",
              "297              NaN              NaN              NaN              NaN   \n",
              "298            GoPay        ShopeePay              NaN             Dana   \n",
              "299            GoPay        ShopeePay              NaN              NaN   \n",
              "\n",
              "    emoney_pilihan_5 emoney_pilihan_6 emoney_pilihan_7  \n",
              "0     eMoney Mandiri              NaN              NaN  \n",
              "1                NaN              NaN              NaN  \n",
              "2                NaN        Flazz BCA          LinkAja  \n",
              "3     eMoney Mandiri              NaN              NaN  \n",
              "4                NaN              NaN              NaN  \n",
              "..               ...              ...              ...  \n",
              "295   eMoney Mandiri        Flazz BCA              NaN  \n",
              "296              NaN              NaN              NaN  \n",
              "297              NaN              NaN              NaN  \n",
              "298              NaN              NaN              NaN  \n",
              "299              NaN              NaN              NaN  \n",
              "\n",
              "[300 rows x 7 columns]"
            ],
            "text/html": [
              "\n",
              "  <div id=\"df-74b14dfe-c25e-4388-96b9-df80fa5417f5\">\n",
              "    <div class=\"colab-df-container\">\n",
              "      <div>\n",
              "<style scoped>\n",
              "    .dataframe tbody tr th:only-of-type {\n",
              "        vertical-align: middle;\n",
              "    }\n",
              "\n",
              "    .dataframe tbody tr th {\n",
              "        vertical-align: top;\n",
              "    }\n",
              "\n",
              "    .dataframe thead th {\n",
              "        text-align: right;\n",
              "    }\n",
              "</style>\n",
              "<table border=\"1\" class=\"dataframe\">\n",
              "  <thead>\n",
              "    <tr style=\"text-align: right;\">\n",
              "      <th></th>\n",
              "      <th>emoney_pilihan_1</th>\n",
              "      <th>emoney_pilihan_2</th>\n",
              "      <th>emoney_pilihan_3</th>\n",
              "      <th>emoney_pilihan_4</th>\n",
              "      <th>emoney_pilihan_5</th>\n",
              "      <th>emoney_pilihan_6</th>\n",
              "      <th>emoney_pilihan_7</th>\n",
              "    </tr>\n",
              "  </thead>\n",
              "  <tbody>\n",
              "    <tr>\n",
              "      <th>0</th>\n",
              "      <td>NaN</td>\n",
              "      <td>NaN</td>\n",
              "      <td>NaN</td>\n",
              "      <td>NaN</td>\n",
              "      <td>eMoney Mandiri</td>\n",
              "      <td>NaN</td>\n",
              "      <td>NaN</td>\n",
              "    </tr>\n",
              "    <tr>\n",
              "      <th>1</th>\n",
              "      <td>NaN</td>\n",
              "      <td>ShopeePay</td>\n",
              "      <td>NaN</td>\n",
              "      <td>NaN</td>\n",
              "      <td>NaN</td>\n",
              "      <td>NaN</td>\n",
              "      <td>NaN</td>\n",
              "    </tr>\n",
              "    <tr>\n",
              "      <th>2</th>\n",
              "      <td>GoPay</td>\n",
              "      <td>ShopeePay</td>\n",
              "      <td>OVO</td>\n",
              "      <td>Dana</td>\n",
              "      <td>NaN</td>\n",
              "      <td>Flazz BCA</td>\n",
              "      <td>LinkAja</td>\n",
              "    </tr>\n",
              "    <tr>\n",
              "      <th>3</th>\n",
              "      <td>NaN</td>\n",
              "      <td>NaN</td>\n",
              "      <td>OVO</td>\n",
              "      <td>NaN</td>\n",
              "      <td>eMoney Mandiri</td>\n",
              "      <td>NaN</td>\n",
              "      <td>NaN</td>\n",
              "    </tr>\n",
              "    <tr>\n",
              "      <th>4</th>\n",
              "      <td>GoPay</td>\n",
              "      <td>ShopeePay</td>\n",
              "      <td>OVO</td>\n",
              "      <td>Dana</td>\n",
              "      <td>NaN</td>\n",
              "      <td>NaN</td>\n",
              "      <td>NaN</td>\n",
              "    </tr>\n",
              "    <tr>\n",
              "      <th>...</th>\n",
              "      <td>...</td>\n",
              "      <td>...</td>\n",
              "      <td>...</td>\n",
              "      <td>...</td>\n",
              "      <td>...</td>\n",
              "      <td>...</td>\n",
              "      <td>...</td>\n",
              "    </tr>\n",
              "    <tr>\n",
              "      <th>295</th>\n",
              "      <td>GoPay</td>\n",
              "      <td>NaN</td>\n",
              "      <td>NaN</td>\n",
              "      <td>NaN</td>\n",
              "      <td>eMoney Mandiri</td>\n",
              "      <td>Flazz BCA</td>\n",
              "      <td>NaN</td>\n",
              "    </tr>\n",
              "    <tr>\n",
              "      <th>296</th>\n",
              "      <td>GoPay</td>\n",
              "      <td>NaN</td>\n",
              "      <td>OVO</td>\n",
              "      <td>NaN</td>\n",
              "      <td>NaN</td>\n",
              "      <td>NaN</td>\n",
              "      <td>NaN</td>\n",
              "    </tr>\n",
              "    <tr>\n",
              "      <th>297</th>\n",
              "      <td>NaN</td>\n",
              "      <td>NaN</td>\n",
              "      <td>NaN</td>\n",
              "      <td>NaN</td>\n",
              "      <td>NaN</td>\n",
              "      <td>NaN</td>\n",
              "      <td>NaN</td>\n",
              "    </tr>\n",
              "    <tr>\n",
              "      <th>298</th>\n",
              "      <td>GoPay</td>\n",
              "      <td>ShopeePay</td>\n",
              "      <td>NaN</td>\n",
              "      <td>Dana</td>\n",
              "      <td>NaN</td>\n",
              "      <td>NaN</td>\n",
              "      <td>NaN</td>\n",
              "    </tr>\n",
              "    <tr>\n",
              "      <th>299</th>\n",
              "      <td>GoPay</td>\n",
              "      <td>ShopeePay</td>\n",
              "      <td>NaN</td>\n",
              "      <td>NaN</td>\n",
              "      <td>NaN</td>\n",
              "      <td>NaN</td>\n",
              "      <td>NaN</td>\n",
              "    </tr>\n",
              "  </tbody>\n",
              "</table>\n",
              "<p>300 rows × 7 columns</p>\n",
              "</div>\n",
              "      <button class=\"colab-df-convert\" onclick=\"convertToInteractive('df-74b14dfe-c25e-4388-96b9-df80fa5417f5')\"\n",
              "              title=\"Convert this dataframe to an interactive table.\"\n",
              "              style=\"display:none;\">\n",
              "        \n",
              "  <svg xmlns=\"http://www.w3.org/2000/svg\" height=\"24px\"viewBox=\"0 0 24 24\"\n",
              "       width=\"24px\">\n",
              "    <path d=\"M0 0h24v24H0V0z\" fill=\"none\"/>\n",
              "    <path d=\"M18.56 5.44l.94 2.06.94-2.06 2.06-.94-2.06-.94-.94-2.06-.94 2.06-2.06.94zm-11 1L8.5 8.5l.94-2.06 2.06-.94-2.06-.94L8.5 2.5l-.94 2.06-2.06.94zm10 10l.94 2.06.94-2.06 2.06-.94-2.06-.94-.94-2.06-.94 2.06-2.06.94z\"/><path d=\"M17.41 7.96l-1.37-1.37c-.4-.4-.92-.59-1.43-.59-.52 0-1.04.2-1.43.59L10.3 9.45l-7.72 7.72c-.78.78-.78 2.05 0 2.83L4 21.41c.39.39.9.59 1.41.59.51 0 1.02-.2 1.41-.59l7.78-7.78 2.81-2.81c.8-.78.8-2.07 0-2.86zM5.41 20L4 18.59l7.72-7.72 1.47 1.35L5.41 20z\"/>\n",
              "  </svg>\n",
              "      </button>\n",
              "      \n",
              "  <style>\n",
              "    .colab-df-container {\n",
              "      display:flex;\n",
              "      flex-wrap:wrap;\n",
              "      gap: 12px;\n",
              "    }\n",
              "\n",
              "    .colab-df-convert {\n",
              "      background-color: #E8F0FE;\n",
              "      border: none;\n",
              "      border-radius: 50%;\n",
              "      cursor: pointer;\n",
              "      display: none;\n",
              "      fill: #1967D2;\n",
              "      height: 32px;\n",
              "      padding: 0 0 0 0;\n",
              "      width: 32px;\n",
              "    }\n",
              "\n",
              "    .colab-df-convert:hover {\n",
              "      background-color: #E2EBFA;\n",
              "      box-shadow: 0px 1px 2px rgba(60, 64, 67, 0.3), 0px 1px 3px 1px rgba(60, 64, 67, 0.15);\n",
              "      fill: #174EA6;\n",
              "    }\n",
              "\n",
              "    [theme=dark] .colab-df-convert {\n",
              "      background-color: #3B4455;\n",
              "      fill: #D2E3FC;\n",
              "    }\n",
              "\n",
              "    [theme=dark] .colab-df-convert:hover {\n",
              "      background-color: #434B5C;\n",
              "      box-shadow: 0px 1px 3px 1px rgba(0, 0, 0, 0.15);\n",
              "      filter: drop-shadow(0px 1px 2px rgba(0, 0, 0, 0.3));\n",
              "      fill: #FFFFFF;\n",
              "    }\n",
              "  </style>\n",
              "\n",
              "      <script>\n",
              "        const buttonEl =\n",
              "          document.querySelector('#df-74b14dfe-c25e-4388-96b9-df80fa5417f5 button.colab-df-convert');\n",
              "        buttonEl.style.display =\n",
              "          google.colab.kernel.accessAllowed ? 'block' : 'none';\n",
              "\n",
              "        async function convertToInteractive(key) {\n",
              "          const element = document.querySelector('#df-74b14dfe-c25e-4388-96b9-df80fa5417f5');\n",
              "          const dataTable =\n",
              "            await google.colab.kernel.invokeFunction('convertToInteractive',\n",
              "                                                     [key], {});\n",
              "          if (!dataTable) return;\n",
              "\n",
              "          const docLinkHtml = 'Like what you see? Visit the ' +\n",
              "            '<a target=\"_blank\" href=https://colab.research.google.com/notebooks/data_table.ipynb>data table notebook</a>'\n",
              "            + ' to learn more about interactive tables.';\n",
              "          element.innerHTML = '';\n",
              "          dataTable['output_type'] = 'display_data';\n",
              "          await google.colab.output.renderOutput(dataTable, element);\n",
              "          const docLink = document.createElement('div');\n",
              "          docLink.innerHTML = docLinkHtml;\n",
              "          element.appendChild(docLink);\n",
              "        }\n",
              "      </script>\n",
              "    </div>\n",
              "  </div>\n",
              "  "
            ]
          },
          "metadata": {},
          "execution_count": 33
        }
      ]
    },
    {
      "cell_type": "code",
      "source": [
        "# Menggabungkan semua kolom bank menjadi satu dataframe\n",
        "b = []\n",
        "for col in emoney.columns :\n",
        "    b += list(df[col])\n",
        "    \n",
        "proporsi_emoney = pd.DataFrame(pd.Series(b).value_counts()).reset_index()\n",
        "proporsi_emoney.columns = ['E-money','Frekuensi']\n",
        "\n",
        "Frekuensi_Total = proporsi_emoney['Frekuensi'].sum()\n",
        "\n",
        "proporsi_emoney['Proporsi'] = proporsi_emoney['Frekuensi']/Responden\n",
        "proporsi_emoney"
      ],
      "metadata": {
        "colab": {
          "base_uri": "https://localhost:8080/",
          "height": 269
        },
        "id": "EiheWYiA153x",
        "outputId": "fcd31a5a-ec77-4eca-de0d-0dab40fb95c8"
      },
      "execution_count": 35,
      "outputs": [
        {
          "output_type": "execute_result",
          "data": {
            "text/plain": [
              "          E-money  Frekuensi  Proporsi\n",
              "0           GoPay        223  0.743333\n",
              "1       ShopeePay        171  0.570000\n",
              "2             OVO        169  0.563333\n",
              "3            Dana        117  0.390000\n",
              "4  eMoney Mandiri         94  0.313333\n",
              "5       Flazz BCA         70  0.233333\n",
              "6         LinkAja         45  0.150000"
            ],
            "text/html": [
              "\n",
              "  <div id=\"df-5076adfb-60a4-4069-8738-09f71b3dcfe2\">\n",
              "    <div class=\"colab-df-container\">\n",
              "      <div>\n",
              "<style scoped>\n",
              "    .dataframe tbody tr th:only-of-type {\n",
              "        vertical-align: middle;\n",
              "    }\n",
              "\n",
              "    .dataframe tbody tr th {\n",
              "        vertical-align: top;\n",
              "    }\n",
              "\n",
              "    .dataframe thead th {\n",
              "        text-align: right;\n",
              "    }\n",
              "</style>\n",
              "<table border=\"1\" class=\"dataframe\">\n",
              "  <thead>\n",
              "    <tr style=\"text-align: right;\">\n",
              "      <th></th>\n",
              "      <th>E-money</th>\n",
              "      <th>Frekuensi</th>\n",
              "      <th>Proporsi</th>\n",
              "    </tr>\n",
              "  </thead>\n",
              "  <tbody>\n",
              "    <tr>\n",
              "      <th>0</th>\n",
              "      <td>GoPay</td>\n",
              "      <td>223</td>\n",
              "      <td>0.743333</td>\n",
              "    </tr>\n",
              "    <tr>\n",
              "      <th>1</th>\n",
              "      <td>ShopeePay</td>\n",
              "      <td>171</td>\n",
              "      <td>0.570000</td>\n",
              "    </tr>\n",
              "    <tr>\n",
              "      <th>2</th>\n",
              "      <td>OVO</td>\n",
              "      <td>169</td>\n",
              "      <td>0.563333</td>\n",
              "    </tr>\n",
              "    <tr>\n",
              "      <th>3</th>\n",
              "      <td>Dana</td>\n",
              "      <td>117</td>\n",
              "      <td>0.390000</td>\n",
              "    </tr>\n",
              "    <tr>\n",
              "      <th>4</th>\n",
              "      <td>eMoney Mandiri</td>\n",
              "      <td>94</td>\n",
              "      <td>0.313333</td>\n",
              "    </tr>\n",
              "    <tr>\n",
              "      <th>5</th>\n",
              "      <td>Flazz BCA</td>\n",
              "      <td>70</td>\n",
              "      <td>0.233333</td>\n",
              "    </tr>\n",
              "    <tr>\n",
              "      <th>6</th>\n",
              "      <td>LinkAja</td>\n",
              "      <td>45</td>\n",
              "      <td>0.150000</td>\n",
              "    </tr>\n",
              "  </tbody>\n",
              "</table>\n",
              "</div>\n",
              "      <button class=\"colab-df-convert\" onclick=\"convertToInteractive('df-5076adfb-60a4-4069-8738-09f71b3dcfe2')\"\n",
              "              title=\"Convert this dataframe to an interactive table.\"\n",
              "              style=\"display:none;\">\n",
              "        \n",
              "  <svg xmlns=\"http://www.w3.org/2000/svg\" height=\"24px\"viewBox=\"0 0 24 24\"\n",
              "       width=\"24px\">\n",
              "    <path d=\"M0 0h24v24H0V0z\" fill=\"none\"/>\n",
              "    <path d=\"M18.56 5.44l.94 2.06.94-2.06 2.06-.94-2.06-.94-.94-2.06-.94 2.06-2.06.94zm-11 1L8.5 8.5l.94-2.06 2.06-.94-2.06-.94L8.5 2.5l-.94 2.06-2.06.94zm10 10l.94 2.06.94-2.06 2.06-.94-2.06-.94-.94-2.06-.94 2.06-2.06.94z\"/><path d=\"M17.41 7.96l-1.37-1.37c-.4-.4-.92-.59-1.43-.59-.52 0-1.04.2-1.43.59L10.3 9.45l-7.72 7.72c-.78.78-.78 2.05 0 2.83L4 21.41c.39.39.9.59 1.41.59.51 0 1.02-.2 1.41-.59l7.78-7.78 2.81-2.81c.8-.78.8-2.07 0-2.86zM5.41 20L4 18.59l7.72-7.72 1.47 1.35L5.41 20z\"/>\n",
              "  </svg>\n",
              "      </button>\n",
              "      \n",
              "  <style>\n",
              "    .colab-df-container {\n",
              "      display:flex;\n",
              "      flex-wrap:wrap;\n",
              "      gap: 12px;\n",
              "    }\n",
              "\n",
              "    .colab-df-convert {\n",
              "      background-color: #E8F0FE;\n",
              "      border: none;\n",
              "      border-radius: 50%;\n",
              "      cursor: pointer;\n",
              "      display: none;\n",
              "      fill: #1967D2;\n",
              "      height: 32px;\n",
              "      padding: 0 0 0 0;\n",
              "      width: 32px;\n",
              "    }\n",
              "\n",
              "    .colab-df-convert:hover {\n",
              "      background-color: #E2EBFA;\n",
              "      box-shadow: 0px 1px 2px rgba(60, 64, 67, 0.3), 0px 1px 3px 1px rgba(60, 64, 67, 0.15);\n",
              "      fill: #174EA6;\n",
              "    }\n",
              "\n",
              "    [theme=dark] .colab-df-convert {\n",
              "      background-color: #3B4455;\n",
              "      fill: #D2E3FC;\n",
              "    }\n",
              "\n",
              "    [theme=dark] .colab-df-convert:hover {\n",
              "      background-color: #434B5C;\n",
              "      box-shadow: 0px 1px 3px 1px rgba(0, 0, 0, 0.15);\n",
              "      filter: drop-shadow(0px 1px 2px rgba(0, 0, 0, 0.3));\n",
              "      fill: #FFFFFF;\n",
              "    }\n",
              "  </style>\n",
              "\n",
              "      <script>\n",
              "        const buttonEl =\n",
              "          document.querySelector('#df-5076adfb-60a4-4069-8738-09f71b3dcfe2 button.colab-df-convert');\n",
              "        buttonEl.style.display =\n",
              "          google.colab.kernel.accessAllowed ? 'block' : 'none';\n",
              "\n",
              "        async function convertToInteractive(key) {\n",
              "          const element = document.querySelector('#df-5076adfb-60a4-4069-8738-09f71b3dcfe2');\n",
              "          const dataTable =\n",
              "            await google.colab.kernel.invokeFunction('convertToInteractive',\n",
              "                                                     [key], {});\n",
              "          if (!dataTable) return;\n",
              "\n",
              "          const docLinkHtml = 'Like what you see? Visit the ' +\n",
              "            '<a target=\"_blank\" href=https://colab.research.google.com/notebooks/data_table.ipynb>data table notebook</a>'\n",
              "            + ' to learn more about interactive tables.';\n",
              "          element.innerHTML = '';\n",
              "          dataTable['output_type'] = 'display_data';\n",
              "          await google.colab.output.renderOutput(dataTable, element);\n",
              "          const docLink = document.createElement('div');\n",
              "          docLink.innerHTML = docLinkHtml;\n",
              "          element.appendChild(docLink);\n",
              "        }\n",
              "      </script>\n",
              "    </div>\n",
              "  </div>\n",
              "  "
            ]
          },
          "metadata": {},
          "execution_count": 35
        }
      ]
    },
    {
      "cell_type": "code",
      "source": [
        "# Bar chart yang perbandingan frekuensi/proporsi pengguna 7 emoney yang ada di kolom emoney_pilihan_1 sampai emoney_pilihan_7\n",
        "fig , ax = plt.subplots(figsize = (9,7))\n",
        "sns.barplot(data = proporsi_emoney, x = 'E-money', y='Frekuensi',ax=ax)\n",
        "plt.xticks(rotation=45)\n",
        "plt.show()"
      ],
      "metadata": {
        "colab": {
          "base_uri": "https://localhost:8080/",
          "height": 496
        },
        "id": "LBQk0xzy2Ap8",
        "outputId": "44c40549-190d-4e36-b348-1b8fcad29176"
      },
      "execution_count": 36,
      "outputs": [
        {
          "output_type": "display_data",
          "data": {
            "text/plain": [
              "<Figure size 648x504 with 1 Axes>"
            ],
            "image/png": "[encoded data removed]"
          },
          "metadata": {
            "needs_background": "light"
          }
        }
      ]
    },
    {
      "cell_type": "markdown",
      "source": [
        "### Nomor 19"
      ],
      "metadata": {
        "id": "tfkkY6G32Cj5"
      }
    },
    {
      "cell_type": "markdown",
      "source": [
        "Hitung confidence interval 95% untuk selisih proporsi pengguna Gopay dan OVO."
      ],
      "metadata": {
        "id": "gfnt8_dK2FGE"
      }
    },
    {
      "cell_type": "code",
      "source": [
        "p_gopay = float(proporsi_emoney[\"Proporsi\"].loc[proporsi_emoney[\"E-money\"] == \"GoPay\"])\n",
        "q_gopay = 1 - p_gopay\n",
        "p_ovo = float(proporsi_emoney[\"Proporsi\"].loc[proporsi_emoney[\"E-money\"] == \"OVO\"])\n",
        "q_ovo = 1 - p_ovo\n",
        "n_emoney = proporsi_emoney[\"Frekuensi\"].sum()\n",
        "alpha_emoney = 1 - 0.95\n",
        "z_alpha_emoney = st.norm.ppf(1 - alpha_emoney/2, loc = 0, scale = 1)\n",
        "e_emoney = z_alpha_emoney * m.sqrt(((p_gopay * q_gopay) / n_emoney) + ((p_ovo * q_ovo) /n_emoney))\n",
        "print(f\"Confidence interval 95% untuk proporsi pengguna Gopay dan OVO.:\\n{round(p_gopay - p_ovo - e_emoney, 5)} < pGoPay - pOVO < {round(p_gopay - p_ovo + e_emoney, 5)}\")"
      ],
      "metadata": {
        "colab": {
          "base_uri": "https://localhost:8080/"
        },
        "id": "QXv-ohpH2HKL",
        "outputId": "787a94cf-a2bb-47d8-e1a4-aff0cc077b65"
      },
      "execution_count": 37,
      "outputs": [
        {
          "output_type": "stream",
          "name": "stdout",
          "text": [
            "Confidence interval 95% untuk proporsi pengguna Gopay dan OVO.:\n",
            "0.13656 < pGoPay - pOVO < 0.22344\n"
          ]
        }
      ]
    },
    {
      "cell_type": "markdown",
      "source": [
        "### Nomor 20"
      ],
      "metadata": {
        "id": "ChxZ5jfq2Kt6"
      }
    },
    {
      "cell_type": "markdown",
      "source": [
        "Lakukan uji hipotesis berikut : \n",
        "\n",
        "H0 : pGopay = pOVO\n",
        "\n",
        "H1 : pGopay > pOVO\n",
        "\n",
        "alpha = 5%"
      ],
      "metadata": {
        "id": "xqou3ySI2N8R"
      }
    },
    {
      "cell_type": "code",
      "source": [
        "x_gopay = float(proporsi_emoney[\"Frekuensi\"].loc[proporsi_emoney[\"E-money\"] == \"GoPay\"])\n",
        "x_ovo = float(proporsi_emoney[\"Frekuensi\"].loc[proporsi_emoney[\"E-money\"] == \"OVO\"])\n",
        "\n",
        "p_hat_emoney = (x_gopay + x_ovo) / (2 * n_emoney)\n",
        "\n",
        "z_emoney = (p_gopay - p_ovo) / m.sqrt(p_hat_emoney * (1 - p_hat_emoney) * (2 / n_emoney))\n",
        "\n",
        "print(f\"Critical region\\t: z > {round(z_alpha_emoney, 5)}\")\n",
        "print(f\"Z\\t\\t: {round(z_emoney, 5)}\")\n",
        "print(\"Kesimpulan\\t:\", end = \" \")\n",
        "\n",
        "if (z_emoney > z_alpha_emoney) :\n",
        "  print(\"H0 berhasil ditolak\")\n",
        "else :\n",
        "  print(\"H0 gagal ditolak\")\n",
        "\n",
        "print(f\"P Value\\t\\t: {1 - st.norm.cdf(z_emoney, loc = 0, scale = 1)}\")"
      ],
      "metadata": {
        "colab": {
          "base_uri": "https://localhost:8080/"
        },
        "id": "Z3UJdf4D2QWJ",
        "outputId": "0182dea9-9a33-411f-8a1a-71a667e13f86"
      },
      "execution_count": 38,
      "outputs": [
        {
          "output_type": "stream",
          "name": "stdout",
          "text": [
            "Critical region\t: z > 1.95996\n",
            "Z\t\t: 9.1541\n",
            "Kesimpulan\t: H0 berhasil ditolak\n",
            "P Value\t\t: 0.0\n"
          ]
        }
      ]
    },
    {
      "cell_type": "markdown",
      "source": [
        "### Nomor 21 dan Nomor 22"
      ],
      "metadata": {
        "id": "pRggqPSQ2oHX"
      }
    },
    {
      "cell_type": "markdown",
      "source": [
        "Buat bar chart / pie chart/ donut chart yang menunjukkan perbedaan frekuensi / proporsi untuk nominal yang biasa dipakai untuk top up emoney.\n",
        "\n",
        "Buat tabel frekuensi dan proporsi untuk nominal yang biasa dipakai untuk top up emoney."
      ],
      "metadata": {
        "id": "CvnQVYNG2q6v"
      }
    },
    {
      "cell_type": "code",
      "source": [
        "# Tabel frekuensi dan proporsi untuk nominal yang biasa dipakai untuk top up emoney\n",
        "proporsi_nominal_topup = pd.DataFrame(df.iloc[:,70].value_counts()).reset_index()\n",
        "proporsi_nominal_topup.columns = ['Nominal Top up E-money','Frekuensi']\n",
        "Frekuensi_Total = proporsi_nominal_topup['Frekuensi'].sum()\n",
        "proporsi_nominal_topup['Proporsi'] = proporsi_nominal_topup['Frekuensi']/Frekuensi_Total\n",
        "\n",
        "custom_dict = {'< Rp 25.000,-':0,'Rp 25.000 – Rp 50.000,-': 1,'Rp 50.001 – Rp 100.000':2,'Rp 150.001 – Rp 300.000':3,'Rp 100.001 – Rp 150.000':4,'> Rp 300.000':5}\n",
        "\n",
        "proporsi_nominal_topup.sort_values(by=['Nominal Top up E-money','Frekuensi'], key = lambda x : x.map(custom_dict), inplace = True)\n",
        "proporsi_nominal_topup"
      ],
      "metadata": {
        "colab": {
          "base_uri": "https://localhost:8080/",
          "height": 237
        },
        "id": "QgfNSs2j2tIx",
        "outputId": "9e7c40d8-7f8d-4e42-cbf5-99bef4b06d69"
      },
      "execution_count": 39,
      "outputs": [
        {
          "output_type": "execute_result",
          "data": {
            "text/plain": [
              "    Nominal Top up E-money  Frekuensi  Proporsi\n",
              "5            < Rp 25.000,-          5  0.017921\n",
              "4  Rp 25.000 – Rp 50.000,-         35  0.125448\n",
              "0   Rp 50.001 – Rp 100.000         82  0.293907\n",
              "3  Rp 150.001 – Rp 300.000         50  0.179211\n",
              "1  Rp 100.001 – Rp 150.000         55  0.197133\n",
              "2             > Rp 300.000         52  0.186380"
            ],
            "text/html": [
              "\n",
              "  <div id=\"df-843195ae-3cdf-42a0-8613-a07aac675766\">\n",
              "    <div class=\"colab-df-container\">\n",
              "      <div>\n",
              "<style scoped>\n",
              "    .dataframe tbody tr th:only-of-type {\n",
              "        vertical-align: middle;\n",
              "    }\n",
              "\n",
              "    .dataframe tbody tr th {\n",
              "        vertical-align: top;\n",
              "    }\n",
              "\n",
              "    .dataframe thead th {\n",
              "        text-align: right;\n",
              "    }\n",
              "</style>\n",
              "<table border=\"1\" class=\"dataframe\">\n",
              "  <thead>\n",
              "    <tr style=\"text-align: right;\">\n",
              "      <th></th>\n",
              "      <th>Nominal Top up E-money</th>\n",
              "      <th>Frekuensi</th>\n",
              "      <th>Proporsi</th>\n",
              "    </tr>\n",
              "  </thead>\n",
              "  <tbody>\n",
              "    <tr>\n",
              "      <th>5</th>\n",
              "      <td>&lt; Rp 25.000,-</td>\n",
              "      <td>5</td>\n",
              "      <td>0.017921</td>\n",
              "    </tr>\n",
              "    <tr>\n",
              "      <th>4</th>\n",
              "      <td>Rp 25.000 – Rp 50.000,-</td>\n",
              "      <td>35</td>\n",
              "      <td>0.125448</td>\n",
              "    </tr>\n",
              "    <tr>\n",
              "      <th>0</th>\n",
              "      <td>Rp 50.001 – Rp 100.000</td>\n",
              "      <td>82</td>\n",
              "      <td>0.293907</td>\n",
              "    </tr>\n",
              "    <tr>\n",
              "      <th>3</th>\n",
              "      <td>Rp 150.001 – Rp 300.000</td>\n",
              "      <td>50</td>\n",
              "      <td>0.179211</td>\n",
              "    </tr>\n",
              "    <tr>\n",
              "      <th>1</th>\n",
              "      <td>Rp 100.001 – Rp 150.000</td>\n",
              "      <td>55</td>\n",
              "      <td>0.197133</td>\n",
              "    </tr>\n",
              "    <tr>\n",
              "      <th>2</th>\n",
              "      <td>&gt; Rp 300.000</td>\n",
              "      <td>52</td>\n",
              "      <td>0.186380</td>\n",
              "    </tr>\n",
              "  </tbody>\n",
              "</table>\n",
              "</div>\n",
              "      <button class=\"colab-df-convert\" onclick=\"convertToInteractive('df-843195ae-3cdf-42a0-8613-a07aac675766')\"\n",
              "              title=\"Convert this dataframe to an interactive table.\"\n",
              "              style=\"display:none;\">\n",
              "        \n",
              "  <svg xmlns=\"http://www.w3.org/2000/svg\" height=\"24px\"viewBox=\"0 0 24 24\"\n",
              "       width=\"24px\">\n",
              "    <path d=\"M0 0h24v24H0V0z\" fill=\"none\"/>\n",
              "    <path d=\"M18.56 5.44l.94 2.06.94-2.06 2.06-.94-2.06-.94-.94-2.06-.94 2.06-2.06.94zm-11 1L8.5 8.5l.94-2.06 2.06-.94-2.06-.94L8.5 2.5l-.94 2.06-2.06.94zm10 10l.94 2.06.94-2.06 2.06-.94-2.06-.94-.94-2.06-.94 2.06-2.06.94z\"/><path d=\"M17.41 7.96l-1.37-1.37c-.4-.4-.92-.59-1.43-.59-.52 0-1.04.2-1.43.59L10.3 9.45l-7.72 7.72c-.78.78-.78 2.05 0 2.83L4 21.41c.39.39.9.59 1.41.59.51 0 1.02-.2 1.41-.59l7.78-7.78 2.81-2.81c.8-.78.8-2.07 0-2.86zM5.41 20L4 18.59l7.72-7.72 1.47 1.35L5.41 20z\"/>\n",
              "  </svg>\n",
              "      </button>\n",
              "      \n",
              "  <style>\n",
              "    .colab-df-container {\n",
              "      display:flex;\n",
              "      flex-wrap:wrap;\n",
              "      gap: 12px;\n",
              "    }\n",
              "\n",
              "    .colab-df-convert {\n",
              "      background-color: #E8F0FE;\n",
              "      border: none;\n",
              "      border-radius: 50%;\n",
              "      cursor: pointer;\n",
              "      display: none;\n",
              "      fill: #1967D2;\n",
              "      height: 32px;\n",
              "      padding: 0 0 0 0;\n",
              "      width: 32px;\n",
              "    }\n",
              "\n",
              "    .colab-df-convert:hover {\n",
              "      background-color: #E2EBFA;\n",
              "      box-shadow: 0px 1px 2px rgba(60, 64, 67, 0.3), 0px 1px 3px 1px rgba(60, 64, 67, 0.15);\n",
              "      fill: #174EA6;\n",
              "    }\n",
              "\n",
              "    [theme=dark] .colab-df-convert {\n",
              "      background-color: #3B4455;\n",
              "      fill: #D2E3FC;\n",
              "    }\n",
              "\n",
              "    [theme=dark] .colab-df-convert:hover {\n",
              "      background-color: #434B5C;\n",
              "      box-shadow: 0px 1px 3px 1px rgba(0, 0, 0, 0.15);\n",
              "      filter: drop-shadow(0px 1px 2px rgba(0, 0, 0, 0.3));\n",
              "      fill: #FFFFFF;\n",
              "    }\n",
              "  </style>\n",
              "\n",
              "      <script>\n",
              "        const buttonEl =\n",
              "          document.querySelector('#df-843195ae-3cdf-42a0-8613-a07aac675766 button.colab-df-convert');\n",
              "        buttonEl.style.display =\n",
              "          google.colab.kernel.accessAllowed ? 'block' : 'none';\n",
              "\n",
              "        async function convertToInteractive(key) {\n",
              "          const element = document.querySelector('#df-843195ae-3cdf-42a0-8613-a07aac675766');\n",
              "          const dataTable =\n",
              "            await google.colab.kernel.invokeFunction('convertToInteractive',\n",
              "                                                     [key], {});\n",
              "          if (!dataTable) return;\n",
              "\n",
              "          const docLinkHtml = 'Like what you see? Visit the ' +\n",
              "            '<a target=\"_blank\" href=https://colab.research.google.com/notebooks/data_table.ipynb>data table notebook</a>'\n",
              "            + ' to learn more about interactive tables.';\n",
              "          element.innerHTML = '';\n",
              "          dataTable['output_type'] = 'display_data';\n",
              "          await google.colab.output.renderOutput(dataTable, element);\n",
              "          const docLink = document.createElement('div');\n",
              "          docLink.innerHTML = docLinkHtml;\n",
              "          element.appendChild(docLink);\n",
              "        }\n",
              "      </script>\n",
              "    </div>\n",
              "  </div>\n",
              "  "
            ]
          },
          "metadata": {},
          "execution_count": 39
        }
      ]
    },
    {
      "cell_type": "code",
      "source": [
        "# Bar Chart nominal yang biasa dipakai untuk top up emoney\n",
        "fig , ax = plt.subplots(figsize = (9,7))\n",
        "sns.barplot(data = proporsi_nominal_topup, x='Nominal Top up E-money', y = 'Frekuensi',ax=ax)\n",
        "plt.xlabel(\"Nominal yang biasa dipakai untuk top up emoney.\")\n",
        "plt.xticks(rotation=45)\n",
        "plt.show()"
      ],
      "metadata": {
        "colab": {
          "base_uri": "https://localhost:8080/",
          "height": 528
        },
        "id": "pnJRZxa-2xSw",
        "outputId": "08d2ef31-49b0-4a08-a0b5-d16bd8c26e1d"
      },
      "execution_count": 40,
      "outputs": [
        {
          "output_type": "display_data",
          "data": {
            "text/plain": [
              "<Figure size 648x504 with 1 Axes>"
            ],
            "image/png": "[encoded data removed]"
          },
          "metadata": {
            "needs_background": "light"
          }
        }
      ]
    },
    {
      "cell_type": "markdown",
      "source": [
        "### Nomor 23 dan Nomor 24"
      ],
      "metadata": {
        "id": "UAKPUsWD22Ik"
      }
    },
    {
      "cell_type": "markdown",
      "source": [
        "Buat bar chart yang perbandingan frekuensi/proporsi pengguna 7 ecommerce yang ada di kolom ecommerce_pilihan_1 sampai ecommerce_pilihan_7 (8 – 12 tidak usah)\n",
        "\n",
        "Buat tabel frekuensi dan proporsi pengguna 7 ecommerce yang ada di kolom ecommerce_pilihan_1 sampai ecommerce_pilihan_7 (8 – 12 tidak usah)"
      ],
      "metadata": {
        "id": "benHBI_n24N7"
      }
    },
    {
      "cell_type": "code",
      "source": [
        "# preview sejumlah kolom emoney menjadi 1 tabel frekuensi\n",
        "ecommerce = df.iloc[:,116:123]\n",
        "ecommerce"
      ],
      "metadata": {
        "colab": {
          "base_uri": "https://localhost:8080/",
          "height": 424
        },
        "id": "EP8KHjR526Y7",
        "outputId": "b2ed00fd-b948-4563-aeea-80c01bdfe308"
      },
      "execution_count": 41,
      "outputs": [
        {
          "output_type": "execute_result",
          "data": {
            "text/plain": [
              "    ecommerce_pilihan_1 ecommerce_pilihan_2 ecommerce_pilihan_3  \\\n",
              "0                Shopee       Gojek (GoFood                 NaN   \n",
              "1                Shopee                 NaN                 NaN   \n",
              "2                Shopee       Gojek (GoFood           Tokopedia   \n",
              "3                Shopee                 NaN           Tokopedia   \n",
              "4                Shopee       Gojek (GoFood                 NaN   \n",
              "..                  ...                 ...                 ...   \n",
              "295              Shopee       Gojek (GoFood           Tokopedia   \n",
              "296              Shopee       Gojek (GoFood                 NaN   \n",
              "297              Shopee                 NaN                 NaN   \n",
              "298              Shopee                 NaN           Tokopedia   \n",
              "299              Shopee       Gojek (GoFood           Tokopedia   \n",
              "\n",
              "    ecommerce_pilihan_4 ecommerce_pilihan_5 ecommerce_pilihan_6  \\\n",
              "0        Grab (GrabFood                 NaN                 NaN   \n",
              "1        Grab (GrabFood           Traveloka                 NaN   \n",
              "2        Grab (GrabFood                 NaN                 NaN   \n",
              "3        Grab (GrabFood                 NaN                 NaN   \n",
              "4        Grab (GrabFood                 NaN                 NaN   \n",
              "..                  ...                 ...                 ...   \n",
              "295                 NaN                 NaN                 NaN   \n",
              "296      Grab (GrabFood                 NaN                 NaN   \n",
              "297                 NaN           Traveloka                 NaN   \n",
              "298                 NaN                 NaN                 NaN   \n",
              "299                 NaN                 NaN                 NaN   \n",
              "\n",
              "    ecommerce_pilihan_7  \n",
              "0                   NaN  \n",
              "1                   NaN  \n",
              "2                   NaN  \n",
              "3                   NaN  \n",
              "4                   NaN  \n",
              "..                  ...  \n",
              "295                 NaN  \n",
              "296                 NaN  \n",
              "297                 NaN  \n",
              "298                 NaN  \n",
              "299                 NaN  \n",
              "\n",
              "[300 rows x 7 columns]"
            ],
            "text/html": [
              "\n",
              "  <div id=\"df-f7c82e88-cb2f-444f-862a-8eec647d2e24\">\n",
              "    <div class=\"colab-df-container\">\n",
              "      <div>\n",
              "<style scoped>\n",
              "    .dataframe tbody tr th:only-of-type {\n",
              "        vertical-align: middle;\n",
              "    }\n",
              "\n",
              "    .dataframe tbody tr th {\n",
              "        vertical-align: top;\n",
              "    }\n",
              "\n",
              "    .dataframe thead th {\n",
              "        text-align: right;\n",
              "    }\n",
              "</style>\n",
              "<table border=\"1\" class=\"dataframe\">\n",
              "  <thead>\n",
              "    <tr style=\"text-align: right;\">\n",
              "      <th></th>\n",
              "      <th>ecommerce_pilihan_1</th>\n",
              "      <th>ecommerce_pilihan_2</th>\n",
              "      <th>ecommerce_pilihan_3</th>\n",
              "      <th>ecommerce_pilihan_4</th>\n",
              "      <th>ecommerce_pilihan_5</th>\n",
              "      <th>ecommerce_pilihan_6</th>\n",
              "      <th>ecommerce_pilihan_7</th>\n",
              "    </tr>\n",
              "  </thead>\n",
              "  <tbody>\n",
              "    <tr>\n",
              "      <th>0</th>\n",
              "      <td>Shopee</td>\n",
              "      <td>Gojek (GoFood</td>\n",
              "      <td>NaN</td>\n",
              "      <td>Grab (GrabFood</td>\n",
              "      <td>NaN</td>\n",
              "      <td>NaN</td>\n",
              "      <td>NaN</td>\n",
              "    </tr>\n",
              "    <tr>\n",
              "      <th>1</th>\n",
              "      <td>Shopee</td>\n",
              "      <td>NaN</td>\n",
              "      <td>NaN</td>\n",
              "      <td>Grab (GrabFood</td>\n",
              "      <td>Traveloka</td>\n",
              "      <td>NaN</td>\n",
              "      <td>NaN</td>\n",
              "    </tr>\n",
              "    <tr>\n",
              "      <th>2</th>\n",
              "      <td>Shopee</td>\n",
              "      <td>Gojek (GoFood</td>\n",
              "      <td>Tokopedia</td>\n",
              "      <td>Grab (GrabFood</td>\n",
              "      <td>NaN</td>\n",
              "      <td>NaN</td>\n",
              "      <td>NaN</td>\n",
              "    </tr>\n",
              "    <tr>\n",
              "      <th>3</th>\n",
              "      <td>Shopee</td>\n",
              "      <td>NaN</td>\n",
              "      <td>Tokopedia</td>\n",
              "      <td>Grab (GrabFood</td>\n",
              "      <td>NaN</td>\n",
              "      <td>NaN</td>\n",
              "      <td>NaN</td>\n",
              "    </tr>\n",
              "    <tr>\n",
              "      <th>4</th>\n",
              "      <td>Shopee</td>\n",
              "      <td>Gojek (GoFood</td>\n",
              "      <td>NaN</td>\n",
              "      <td>Grab (GrabFood</td>\n",
              "      <td>NaN</td>\n",
              "      <td>NaN</td>\n",
              "      <td>NaN</td>\n",
              "    </tr>\n",
              "    <tr>\n",
              "      <th>...</th>\n",
              "      <td>...</td>\n",
              "      <td>...</td>\n",
              "      <td>...</td>\n",
              "      <td>...</td>\n",
              "      <td>...</td>\n",
              "      <td>...</td>\n",
              "      <td>...</td>\n",
              "    </tr>\n",
              "    <tr>\n",
              "      <th>295</th>\n",
              "      <td>Shopee</td>\n",
              "      <td>Gojek (GoFood</td>\n",
              "      <td>Tokopedia</td>\n",
              "      <td>NaN</td>\n",
              "      <td>NaN</td>\n",
              "      <td>NaN</td>\n",
              "      <td>NaN</td>\n",
              "    </tr>\n",
              "    <tr>\n",
              "      <th>296</th>\n",
              "      <td>Shopee</td>\n",
              "      <td>Gojek (GoFood</td>\n",
              "      <td>NaN</td>\n",
              "      <td>Grab (GrabFood</td>\n",
              "      <td>NaN</td>\n",
              "      <td>NaN</td>\n",
              "      <td>NaN</td>\n",
              "    </tr>\n",
              "    <tr>\n",
              "      <th>297</th>\n",
              "      <td>Shopee</td>\n",
              "      <td>NaN</td>\n",
              "      <td>NaN</td>\n",
              "      <td>NaN</td>\n",
              "      <td>Traveloka</td>\n",
              "      <td>NaN</td>\n",
              "      <td>NaN</td>\n",
              "    </tr>\n",
              "    <tr>\n",
              "      <th>298</th>\n",
              "      <td>Shopee</td>\n",
              "      <td>NaN</td>\n",
              "      <td>Tokopedia</td>\n",
              "      <td>NaN</td>\n",
              "      <td>NaN</td>\n",
              "      <td>NaN</td>\n",
              "      <td>NaN</td>\n",
              "    </tr>\n",
              "    <tr>\n",
              "      <th>299</th>\n",
              "      <td>Shopee</td>\n",
              "      <td>Gojek (GoFood</td>\n",
              "      <td>Tokopedia</td>\n",
              "      <td>NaN</td>\n",
              "      <td>NaN</td>\n",
              "      <td>NaN</td>\n",
              "      <td>NaN</td>\n",
              "    </tr>\n",
              "  </tbody>\n",
              "</table>\n",
              "<p>300 rows × 7 columns</p>\n",
              "</div>\n",
              "      <button class=\"colab-df-convert\" onclick=\"convertToInteractive('df-f7c82e88-cb2f-444f-862a-8eec647d2e24')\"\n",
              "              title=\"Convert this dataframe to an interactive table.\"\n",
              "              style=\"display:none;\">\n",
              "        \n",
              "  <svg xmlns=\"http://www.w3.org/2000/svg\" height=\"24px\"viewBox=\"0 0 24 24\"\n",
              "       width=\"24px\">\n",
              "    <path d=\"M0 0h24v24H0V0z\" fill=\"none\"/>\n",
              "    <path d=\"M18.56 5.44l.94 2.06.94-2.06 2.06-.94-2.06-.94-.94-2.06-.94 2.06-2.06.94zm-11 1L8.5 8.5l.94-2.06 2.06-.94-2.06-.94L8.5 2.5l-.94 2.06-2.06.94zm10 10l.94 2.06.94-2.06 2.06-.94-2.06-.94-.94-2.06-.94 2.06-2.06.94z\"/><path d=\"M17.41 7.96l-1.37-1.37c-.4-.4-.92-.59-1.43-.59-.52 0-1.04.2-1.43.59L10.3 9.45l-7.72 7.72c-.78.78-.78 2.05 0 2.83L4 21.41c.39.39.9.59 1.41.59.51 0 1.02-.2 1.41-.59l7.78-7.78 2.81-2.81c.8-.78.8-2.07 0-2.86zM5.41 20L4 18.59l7.72-7.72 1.47 1.35L5.41 20z\"/>\n",
              "  </svg>\n",
              "      </button>\n",
              "      \n",
              "  <style>\n",
              "    .colab-df-container {\n",
              "      display:flex;\n",
              "      flex-wrap:wrap;\n",
              "      gap: 12px;\n",
              "    }\n",
              "\n",
              "    .colab-df-convert {\n",
              "      background-color: #E8F0FE;\n",
              "      border: none;\n",
              "      border-radius: 50%;\n",
              "      cursor: pointer;\n",
              "      display: none;\n",
              "      fill: #1967D2;\n",
              "      height: 32px;\n",
              "      padding: 0 0 0 0;\n",
              "      width: 32px;\n",
              "    }\n",
              "\n",
              "    .colab-df-convert:hover {\n",
              "      background-color: #E2EBFA;\n",
              "      box-shadow: 0px 1px 2px rgba(60, 64, 67, 0.3), 0px 1px 3px 1px rgba(60, 64, 67, 0.15);\n",
              "      fill: #174EA6;\n",
              "    }\n",
              "\n",
              "    [theme=dark] .colab-df-convert {\n",
              "      background-color: #3B4455;\n",
              "      fill: #D2E3FC;\n",
              "    }\n",
              "\n",
              "    [theme=dark] .colab-df-convert:hover {\n",
              "      background-color: #434B5C;\n",
              "      box-shadow: 0px 1px 3px 1px rgba(0, 0, 0, 0.15);\n",
              "      filter: drop-shadow(0px 1px 2px rgba(0, 0, 0, 0.3));\n",
              "      fill: #FFFFFF;\n",
              "    }\n",
              "  </style>\n",
              "\n",
              "      <script>\n",
              "        const buttonEl =\n",
              "          document.querySelector('#df-f7c82e88-cb2f-444f-862a-8eec647d2e24 button.colab-df-convert');\n",
              "        buttonEl.style.display =\n",
              "          google.colab.kernel.accessAllowed ? 'block' : 'none';\n",
              "\n",
              "        async function convertToInteractive(key) {\n",
              "          const element = document.querySelector('#df-f7c82e88-cb2f-444f-862a-8eec647d2e24');\n",
              "          const dataTable =\n",
              "            await google.colab.kernel.invokeFunction('convertToInteractive',\n",
              "                                                     [key], {});\n",
              "          if (!dataTable) return;\n",
              "\n",
              "          const docLinkHtml = 'Like what you see? Visit the ' +\n",
              "            '<a target=\"_blank\" href=https://colab.research.google.com/notebooks/data_table.ipynb>data table notebook</a>'\n",
              "            + ' to learn more about interactive tables.';\n",
              "          element.innerHTML = '';\n",
              "          dataTable['output_type'] = 'display_data';\n",
              "          await google.colab.output.renderOutput(dataTable, element);\n",
              "          const docLink = document.createElement('div');\n",
              "          docLink.innerHTML = docLinkHtml;\n",
              "          element.appendChild(docLink);\n",
              "        }\n",
              "      </script>\n",
              "    </div>\n",
              "  </div>\n",
              "  "
            ]
          },
          "metadata": {},
          "execution_count": 41
        }
      ]
    },
    {
      "cell_type": "code",
      "source": [
        "# Tabel frekuensi dan proporsi pengguna 7 ecommerce yang ada di kolom ecommerce_pilihan_1 sampai ecommerce_pilihan_7\n",
        "c = []\n",
        "for col in ecommerce.columns :\n",
        "    c += list(df[col])\n",
        "    \n",
        "proporsi_ecommerce = pd.DataFrame(pd.Series(c).value_counts()).reset_index()\n",
        "proporsi_ecommerce.columns = ['E-commerce','Frekuensi']\n",
        "\n",
        "Frekuensi_Total = proporsi_ecommerce['Frekuensi'].sum()\n",
        "\n",
        "proporsi_ecommerce['Proporsi'] = proporsi_ecommerce['Frekuensi']/Responden\n",
        "proporsi_ecommerce"
      ],
      "metadata": {
        "colab": {
          "base_uri": "https://localhost:8080/",
          "height": 269
        },
        "id": "srs7yZLa294h",
        "outputId": "51b6e726-a963-4080-bce1-3420f35b4bf6"
      },
      "execution_count": 43,
      "outputs": [
        {
          "output_type": "execute_result",
          "data": {
            "text/plain": [
              "       E-commerce  Frekuensi  Proporsi\n",
              "0          Shopee        223  0.743333\n",
              "1   Gojek (GoFood        207  0.690000\n",
              "2       Tokopedia        180  0.600000\n",
              "3  Grab (GrabFood        121  0.403333\n",
              "4       Traveloka         42  0.140000\n",
              "5          Lazada         33  0.110000\n",
              "6       Tiket.com         31  0.103333"
            ],
            "text/html": [
              "\n",
              "  <div id=\"df-9d0563af-a4ff-4504-b739-cd5e7bc1122e\">\n",
              "    <div class=\"colab-df-container\">\n",
              "      <div>\n",
              "<style scoped>\n",
              "    .dataframe tbody tr th:only-of-type {\n",
              "        vertical-align: middle;\n",
              "    }\n",
              "\n",
              "    .dataframe tbody tr th {\n",
              "        vertical-align: top;\n",
              "    }\n",
              "\n",
              "    .dataframe thead th {\n",
              "        text-align: right;\n",
              "    }\n",
              "</style>\n",
              "<table border=\"1\" class=\"dataframe\">\n",
              "  <thead>\n",
              "    <tr style=\"text-align: right;\">\n",
              "      <th></th>\n",
              "      <th>E-commerce</th>\n",
              "      <th>Frekuensi</th>\n",
              "      <th>Proporsi</th>\n",
              "    </tr>\n",
              "  </thead>\n",
              "  <tbody>\n",
              "    <tr>\n",
              "      <th>0</th>\n",
              "      <td>Shopee</td>\n",
              "      <td>223</td>\n",
              "      <td>0.743333</td>\n",
              "    </tr>\n",
              "    <tr>\n",
              "      <th>1</th>\n",
              "      <td>Gojek (GoFood</td>\n",
              "      <td>207</td>\n",
              "      <td>0.690000</td>\n",
              "    </tr>\n",
              "    <tr>\n",
              "      <th>2</th>\n",
              "      <td>Tokopedia</td>\n",
              "      <td>180</td>\n",
              "      <td>0.600000</td>\n",
              "    </tr>\n",
              "    <tr>\n",
              "      <th>3</th>\n",
              "      <td>Grab (GrabFood</td>\n",
              "      <td>121</td>\n",
              "      <td>0.403333</td>\n",
              "    </tr>\n",
              "    <tr>\n",
              "      <th>4</th>\n",
              "      <td>Traveloka</td>\n",
              "      <td>42</td>\n",
              "      <td>0.140000</td>\n",
              "    </tr>\n",
              "    <tr>\n",
              "      <th>5</th>\n",
              "      <td>Lazada</td>\n",
              "      <td>33</td>\n",
              "      <td>0.110000</td>\n",
              "    </tr>\n",
              "    <tr>\n",
              "      <th>6</th>\n",
              "      <td>Tiket.com</td>\n",
              "      <td>31</td>\n",
              "      <td>0.103333</td>\n",
              "    </tr>\n",
              "  </tbody>\n",
              "</table>\n",
              "</div>\n",
              "      <button class=\"colab-df-convert\" onclick=\"convertToInteractive('df-9d0563af-a4ff-4504-b739-cd5e7bc1122e')\"\n",
              "              title=\"Convert this dataframe to an interactive table.\"\n",
              "              style=\"display:none;\">\n",
              "        \n",
              "  <svg xmlns=\"http://www.w3.org/2000/svg\" height=\"24px\"viewBox=\"0 0 24 24\"\n",
              "       width=\"24px\">\n",
              "    <path d=\"M0 0h24v24H0V0z\" fill=\"none\"/>\n",
              "    <path d=\"M18.56 5.44l.94 2.06.94-2.06 2.06-.94-2.06-.94-.94-2.06-.94 2.06-2.06.94zm-11 1L8.5 8.5l.94-2.06 2.06-.94-2.06-.94L8.5 2.5l-.94 2.06-2.06.94zm10 10l.94 2.06.94-2.06 2.06-.94-2.06-.94-.94-2.06-.94 2.06-2.06.94z\"/><path d=\"M17.41 7.96l-1.37-1.37c-.4-.4-.92-.59-1.43-.59-.52 0-1.04.2-1.43.59L10.3 9.45l-7.72 7.72c-.78.78-.78 2.05 0 2.83L4 21.41c.39.39.9.59 1.41.59.51 0 1.02-.2 1.41-.59l7.78-7.78 2.81-2.81c.8-.78.8-2.07 0-2.86zM5.41 20L4 18.59l7.72-7.72 1.47 1.35L5.41 20z\"/>\n",
              "  </svg>\n",
              "      </button>\n",
              "      \n",
              "  <style>\n",
              "    .colab-df-container {\n",
              "      display:flex;\n",
              "      flex-wrap:wrap;\n",
              "      gap: 12px;\n",
              "    }\n",
              "\n",
              "    .colab-df-convert {\n",
              "      background-color: #E8F0FE;\n",
              "      border: none;\n",
              "      border-radius: 50%;\n",
              "      cursor: pointer;\n",
              "      display: none;\n",
              "      fill: #1967D2;\n",
              "      height: 32px;\n",
              "      padding: 0 0 0 0;\n",
              "      width: 32px;\n",
              "    }\n",
              "\n",
              "    .colab-df-convert:hover {\n",
              "      background-color: #E2EBFA;\n",
              "      box-shadow: 0px 1px 2px rgba(60, 64, 67, 0.3), 0px 1px 3px 1px rgba(60, 64, 67, 0.15);\n",
              "      fill: #174EA6;\n",
              "    }\n",
              "\n",
              "    [theme=dark] .colab-df-convert {\n",
              "      background-color: #3B4455;\n",
              "      fill: #D2E3FC;\n",
              "    }\n",
              "\n",
              "    [theme=dark] .colab-df-convert:hover {\n",
              "      background-color: #434B5C;\n",
              "      box-shadow: 0px 1px 3px 1px rgba(0, 0, 0, 0.15);\n",
              "      filter: drop-shadow(0px 1px 2px rgba(0, 0, 0, 0.3));\n",
              "      fill: #FFFFFF;\n",
              "    }\n",
              "  </style>\n",
              "\n",
              "      <script>\n",
              "        const buttonEl =\n",
              "          document.querySelector('#df-9d0563af-a4ff-4504-b739-cd5e7bc1122e button.colab-df-convert');\n",
              "        buttonEl.style.display =\n",
              "          google.colab.kernel.accessAllowed ? 'block' : 'none';\n",
              "\n",
              "        async function convertToInteractive(key) {\n",
              "          const element = document.querySelector('#df-9d0563af-a4ff-4504-b739-cd5e7bc1122e');\n",
              "          const dataTable =\n",
              "            await google.colab.kernel.invokeFunction('convertToInteractive',\n",
              "                                                     [key], {});\n",
              "          if (!dataTable) return;\n",
              "\n",
              "          const docLinkHtml = 'Like what you see? Visit the ' +\n",
              "            '<a target=\"_blank\" href=https://colab.research.google.com/notebooks/data_table.ipynb>data table notebook</a>'\n",
              "            + ' to learn more about interactive tables.';\n",
              "          element.innerHTML = '';\n",
              "          dataTable['output_type'] = 'display_data';\n",
              "          await google.colab.output.renderOutput(dataTable, element);\n",
              "          const docLink = document.createElement('div');\n",
              "          docLink.innerHTML = docLinkHtml;\n",
              "          element.appendChild(docLink);\n",
              "        }\n",
              "      </script>\n",
              "    </div>\n",
              "  </div>\n",
              "  "
            ]
          },
          "metadata": {},
          "execution_count": 43
        }
      ]
    },
    {
      "cell_type": "code",
      "source": [
        "# Bar chart perbandingan frekuensi / proporsi pengguna 7 ecommerce yang ada di kolom ecommerce_pilihan_1 sampai ecommerce_pilihan_7\n",
        "fig , ax = plt.subplots(figsize = (9,7))\n",
        "sns.barplot(data = proporsi_ecommerce, x = 'E-commerce', y='Frekuensi',ax=ax)\n",
        "plt.xticks(rotation=45)\n",
        "plt.show()"
      ],
      "metadata": {
        "colab": {
          "base_uri": "https://localhost:8080/",
          "height": 496
        },
        "id": "JEZdQS_c3C1i",
        "outputId": "94b47913-ef37-45bb-fb70-24d0bc691e3e"
      },
      "execution_count": 44,
      "outputs": [
        {
          "output_type": "display_data",
          "data": {
            "text/plain": [
              "<Figure size 648x504 with 1 Axes>"
            ],
            "image/png": "[encoded data removed]"
          },
          "metadata": {
            "needs_background": "light"
          }
        }
      ]
    },
    {
      "cell_type": "markdown",
      "source": [
        "### Nomor 25"
      ],
      "metadata": {
        "id": "ZzeBQVqs3FRu"
      }
    },
    {
      "cell_type": "markdown",
      "source": [
        "Buat bar chart / pie chart/ donut chart yang menunjukkan perbedaan frekuensi / proporsi untuk responden yang prefer beli handphone secara offline vs online"
      ],
      "metadata": {
        "id": "KIB3M7E53Hwe"
      }
    },
    {
      "cell_type": "code",
      "source": [
        "# Bar chart untuk menunjukkan perbedaan frekuensi / proporsi untuk responden yang prefer beli handphone secara offline vs online\n",
        "fig , ax = plt.subplots(figsize = (9,7))\n",
        "sns.countplot(data = df, x='47. Bagaimana kecenderungan Anda jika akan berbelanja hal-hal berikut? [handphone]',ax=ax)\n",
        "plt.xlabel(\"Preferensi Beli Handphone\")\n",
        "plt.show()"
      ],
      "metadata": {
        "colab": {
          "base_uri": "https://localhost:8080/",
          "height": 442
        },
        "id": "dhzwlQtC3J6v",
        "outputId": "0ccdfac5-d0ea-4696-b3c0-b243f0f3e598"
      },
      "execution_count": 45,
      "outputs": [
        {
          "output_type": "display_data",
          "data": {
            "text/plain": [
              "<Figure size 648x504 with 1 Axes>"
            ],
            "image/png": "[encoded data removed]"
          },
          "metadata": {
            "needs_background": "light"
          }
        }
      ]
    },
    {
      "cell_type": "markdown",
      "source": [
        "### Nomor 26"
      ],
      "metadata": {
        "id": "IE9ryRc73Njz"
      }
    },
    {
      "cell_type": "markdown",
      "source": [
        "Buat tabel frekuensi dan proporsi untuk responden yang prefer beli handphone secara offline vs online"
      ],
      "metadata": {
        "id": "5EcMTI083PUp"
      }
    },
    {
      "cell_type": "code",
      "source": [
        "# Tabel frekuensi dan proporsi untuk responden yang prefer beli handphone secara offline vs online\n",
        "proporsi_beli_HP = pd.DataFrame(df.iloc[:,99].value_counts()).reset_index()\n",
        "proporsi_beli_HP.columns = ['Preferensi Beli Handphone','Frekuensi']\n",
        "Frekuensi_Total = proporsi_beli_HP['Frekuensi'].sum()\n",
        "proporsi_beli_HP['Proporsi'] = proporsi_beli_HP['Frekuensi']/Frekuensi_Total\n",
        "proporsi_beli_HP"
      ],
      "metadata": {
        "colab": {
          "base_uri": "https://localhost:8080/",
          "height": 112
        },
        "id": "xj2mw5ZW3RLS",
        "outputId": "199a8206-5050-417b-9397-d4b4b3f7ea88"
      },
      "execution_count": 46,
      "outputs": [
        {
          "output_type": "execute_result",
          "data": {
            "text/plain": [
              "                Preferensi Beli Handphone  Frekuensi  Proporsi\n",
              "0  offline/ langsung datang ke toko fisik        206  0.792308\n",
              "1                                  online         54  0.207692"
            ],
            "text/html": [
              "\n",
              "  <div id=\"df-4a76ce7b-3056-4c50-a0c3-e899fcd0b3d2\">\n",
              "    <div class=\"colab-df-container\">\n",
              "      <div>\n",
              "<style scoped>\n",
              "    .dataframe tbody tr th:only-of-type {\n",
              "        vertical-align: middle;\n",
              "    }\n",
              "\n",
              "    .dataframe tbody tr th {\n",
              "        vertical-align: top;\n",
              "    }\n",
              "\n",
              "    .dataframe thead th {\n",
              "        text-align: right;\n",
              "    }\n",
              "</style>\n",
              "<table border=\"1\" class=\"dataframe\">\n",
              "  <thead>\n",
              "    <tr style=\"text-align: right;\">\n",
              "      <th></th>\n",
              "      <th>Preferensi Beli Handphone</th>\n",
              "      <th>Frekuensi</th>\n",
              "      <th>Proporsi</th>\n",
              "    </tr>\n",
              "  </thead>\n",
              "  <tbody>\n",
              "    <tr>\n",
              "      <th>0</th>\n",
              "      <td>offline/ langsung datang ke toko fisik</td>\n",
              "      <td>206</td>\n",
              "      <td>0.792308</td>\n",
              "    </tr>\n",
              "    <tr>\n",
              "      <th>1</th>\n",
              "      <td>online</td>\n",
              "      <td>54</td>\n",
              "      <td>0.207692</td>\n",
              "    </tr>\n",
              "  </tbody>\n",
              "</table>\n",
              "</div>\n",
              "      <button class=\"colab-df-convert\" onclick=\"convertToInteractive('df-4a76ce7b-3056-4c50-a0c3-e899fcd0b3d2')\"\n",
              "              title=\"Convert this dataframe to an interactive table.\"\n",
              "              style=\"display:none;\">\n",
              "        \n",
              "  <svg xmlns=\"http://www.w3.org/2000/svg\" height=\"24px\"viewBox=\"0 0 24 24\"\n",
              "       width=\"24px\">\n",
              "    <path d=\"M0 0h24v24H0V0z\" fill=\"none\"/>\n",
              "    <path d=\"M18.56 5.44l.94 2.06.94-2.06 2.06-.94-2.06-.94-.94-2.06-.94 2.06-2.06.94zm-11 1L8.5 8.5l.94-2.06 2.06-.94-2.06-.94L8.5 2.5l-.94 2.06-2.06.94zm10 10l.94 2.06.94-2.06 2.06-.94-2.06-.94-.94-2.06-.94 2.06-2.06.94z\"/><path d=\"M17.41 7.96l-1.37-1.37c-.4-.4-.92-.59-1.43-.59-.52 0-1.04.2-1.43.59L10.3 9.45l-7.72 7.72c-.78.78-.78 2.05 0 2.83L4 21.41c.39.39.9.59 1.41.59.51 0 1.02-.2 1.41-.59l7.78-7.78 2.81-2.81c.8-.78.8-2.07 0-2.86zM5.41 20L4 18.59l7.72-7.72 1.47 1.35L5.41 20z\"/>\n",
              "  </svg>\n",
              "      </button>\n",
              "      \n",
              "  <style>\n",
              "    .colab-df-container {\n",
              "      display:flex;\n",
              "      flex-wrap:wrap;\n",
              "      gap: 12px;\n",
              "    }\n",
              "\n",
              "    .colab-df-convert {\n",
              "      background-color: #E8F0FE;\n",
              "      border: none;\n",
              "      border-radius: 50%;\n",
              "      cursor: pointer;\n",
              "      display: none;\n",
              "      fill: #1967D2;\n",
              "      height: 32px;\n",
              "      padding: 0 0 0 0;\n",
              "      width: 32px;\n",
              "    }\n",
              "\n",
              "    .colab-df-convert:hover {\n",
              "      background-color: #E2EBFA;\n",
              "      box-shadow: 0px 1px 2px rgba(60, 64, 67, 0.3), 0px 1px 3px 1px rgba(60, 64, 67, 0.15);\n",
              "      fill: #174EA6;\n",
              "    }\n",
              "\n",
              "    [theme=dark] .colab-df-convert {\n",
              "      background-color: #3B4455;\n",
              "      fill: #D2E3FC;\n",
              "    }\n",
              "\n",
              "    [theme=dark] .colab-df-convert:hover {\n",
              "      background-color: #434B5C;\n",
              "      box-shadow: 0px 1px 3px 1px rgba(0, 0, 0, 0.15);\n",
              "      filter: drop-shadow(0px 1px 2px rgba(0, 0, 0, 0.3));\n",
              "      fill: #FFFFFF;\n",
              "    }\n",
              "  </style>\n",
              "\n",
              "      <script>\n",
              "        const buttonEl =\n",
              "          document.querySelector('#df-4a76ce7b-3056-4c50-a0c3-e899fcd0b3d2 button.colab-df-convert');\n",
              "        buttonEl.style.display =\n",
              "          google.colab.kernel.accessAllowed ? 'block' : 'none';\n",
              "\n",
              "        async function convertToInteractive(key) {\n",
              "          const element = document.querySelector('#df-4a76ce7b-3056-4c50-a0c3-e899fcd0b3d2');\n",
              "          const dataTable =\n",
              "            await google.colab.kernel.invokeFunction('convertToInteractive',\n",
              "                                                     [key], {});\n",
              "          if (!dataTable) return;\n",
              "\n",
              "          const docLinkHtml = 'Like what you see? Visit the ' +\n",
              "            '<a target=\"_blank\" href=https://colab.research.google.com/notebooks/data_table.ipynb>data table notebook</a>'\n",
              "            + ' to learn more about interactive tables.';\n",
              "          element.innerHTML = '';\n",
              "          dataTable['output_type'] = 'display_data';\n",
              "          await google.colab.output.renderOutput(dataTable, element);\n",
              "          const docLink = document.createElement('div');\n",
              "          docLink.innerHTML = docLinkHtml;\n",
              "          element.appendChild(docLink);\n",
              "        }\n",
              "      </script>\n",
              "    </div>\n",
              "  </div>\n",
              "  "
            ]
          },
          "metadata": {},
          "execution_count": 46
        }
      ]
    },
    {
      "cell_type": "markdown",
      "source": [
        "### Nomor 27"
      ],
      "metadata": {
        "id": "PyNfHcG_3VEc"
      }
    },
    {
      "cell_type": "markdown",
      "source": [
        "Buat bar chart / pie chart/ donut chart yang menunjukkan perbedaan frekuensi / proporsi untuk tempat beli makanan online yang pilihan responden"
      ],
      "metadata": {
        "id": "wu8fArsR3V3h"
      }
    },
    {
      "cell_type": "code",
      "source": [
        "# Bar chart untuk menunjukkan perbedaan frekuensi / proporsi untuk tempat beli makanan online yang pilihan responden\n",
        "fig , ax = plt.subplots(figsize = (9,7))\n",
        "sns.countplot(data = df, x='50. Apakah Anda pernah menggunakan layanan Food Delivery (pembelian makanan/ minuman secara online )? Jika Pernah, mohon sebutkan layanan yang PALING sering Anda gunakan?',ax=ax)\n",
        "plt.xlabel(\"Preferensi Platform beli Makanan\")\n",
        "plt.xticks(rotation=90)\n",
        "plt.show()"
      ],
      "metadata": {
        "colab": {
          "base_uri": "https://localhost:8080/",
          "height": 687
        },
        "id": "GFyozSmU3YKw",
        "outputId": "837d8f50-2a63-4845-b681-fff201f09e86"
      },
      "execution_count": 47,
      "outputs": [
        {
          "output_type": "display_data",
          "data": {
            "text/plain": [
              "<Figure size 648x504 with 1 Axes>"
            ],
            "image/png": "[encoded data removed]"
          },
          "metadata": {
            "needs_background": "light"
          }
        }
      ]
    },
    {
      "cell_type": "markdown",
      "source": [
        "### Nomor 28"
      ],
      "metadata": {
        "id": "H7UrjKkL3ak1"
      }
    },
    {
      "cell_type": "markdown",
      "source": [
        "Buat tabel frekuensi dan proporsi untuk tempat beli makanan online yang pilihan responden."
      ],
      "metadata": {
        "id": "n-p4hApF3dxw"
      }
    },
    {
      "cell_type": "code",
      "source": [
        "# Tabel frekuensi dan proporsi untuk tempat beli makanan online yang pilihan responden\n",
        "proporsi_platform_beli_makanan = pd.DataFrame(df.iloc[:,128].value_counts()).reset_index()\n",
        "proporsi_platform_beli_makanan.columns = ['Preferensi Platform beli Makanan','Frekuensi']\n",
        "Frekuensi_Total = proporsi_platform_beli_makanan['Frekuensi'].sum()\n",
        "proporsi_platform_beli_makanan['Proporsi'] = proporsi_platform_beli_makanan['Frekuensi']/Frekuensi_Total\n",
        "proporsi_platform_beli_makanan"
      ],
      "metadata": {
        "colab": {
          "base_uri": "https://localhost:8080/",
          "height": 206
        },
        "id": "zRn9c5Ty3gbj",
        "outputId": "3d4e3209-4a32-4b81-9b40-12341073dfff"
      },
      "execution_count": 48,
      "outputs": [
        {
          "output_type": "execute_result",
          "data": {
            "text/plain": [
              "                 Preferensi Platform beli Makanan  Frekuensi  Proporsi\n",
              "0                                          GoFood        132  0.447458\n",
              "1                                        GrabFood         87  0.294915\n",
              "2                                      ShopeeFood         64  0.216949\n",
              "3  Tidak pernah menggunakan layanan Food Delivery         11  0.037288\n",
              "4                                      Maxim food          1  0.003390"
            ],
            "text/html": [
              "\n",
              "  <div id=\"df-3a0f8578-2fa0-4038-acd3-0b0d6a98bcef\">\n",
              "    <div class=\"colab-df-container\">\n",
              "      <div>\n",
              "<style scoped>\n",
              "    .dataframe tbody tr th:only-of-type {\n",
              "        vertical-align: middle;\n",
              "    }\n",
              "\n",
              "    .dataframe tbody tr th {\n",
              "        vertical-align: top;\n",
              "    }\n",
              "\n",
              "    .dataframe thead th {\n",
              "        text-align: right;\n",
              "    }\n",
              "</style>\n",
              "<table border=\"1\" class=\"dataframe\">\n",
              "  <thead>\n",
              "    <tr style=\"text-align: right;\">\n",
              "      <th></th>\n",
              "      <th>Preferensi Platform beli Makanan</th>\n",
              "      <th>Frekuensi</th>\n",
              "      <th>Proporsi</th>\n",
              "    </tr>\n",
              "  </thead>\n",
              "  <tbody>\n",
              "    <tr>\n",
              "      <th>0</th>\n",
              "      <td>GoFood</td>\n",
              "      <td>132</td>\n",
              "      <td>0.447458</td>\n",
              "    </tr>\n",
              "    <tr>\n",
              "      <th>1</th>\n",
              "      <td>GrabFood</td>\n",
              "      <td>87</td>\n",
              "      <td>0.294915</td>\n",
              "    </tr>\n",
              "    <tr>\n",
              "      <th>2</th>\n",
              "      <td>ShopeeFood</td>\n",
              "      <td>64</td>\n",
              "      <td>0.216949</td>\n",
              "    </tr>\n",
              "    <tr>\n",
              "      <th>3</th>\n",
              "      <td>Tidak pernah menggunakan layanan Food Delivery</td>\n",
              "      <td>11</td>\n",
              "      <td>0.037288</td>\n",
              "    </tr>\n",
              "    <tr>\n",
              "      <th>4</th>\n",
              "      <td>Maxim food</td>\n",
              "      <td>1</td>\n",
              "      <td>0.003390</td>\n",
              "    </tr>\n",
              "  </tbody>\n",
              "</table>\n",
              "</div>\n",
              "      <button class=\"colab-df-convert\" onclick=\"convertToInteractive('df-3a0f8578-2fa0-4038-acd3-0b0d6a98bcef')\"\n",
              "              title=\"Convert this dataframe to an interactive table.\"\n",
              "              style=\"display:none;\">\n",
              "        \n",
              "  <svg xmlns=\"http://www.w3.org/2000/svg\" height=\"24px\"viewBox=\"0 0 24 24\"\n",
              "       width=\"24px\">\n",
              "    <path d=\"M0 0h24v24H0V0z\" fill=\"none\"/>\n",
              "    <path d=\"M18.56 5.44l.94 2.06.94-2.06 2.06-.94-2.06-.94-.94-2.06-.94 2.06-2.06.94zm-11 1L8.5 8.5l.94-2.06 2.06-.94-2.06-.94L8.5 2.5l-.94 2.06-2.06.94zm10 10l.94 2.06.94-2.06 2.06-.94-2.06-.94-.94-2.06-.94 2.06-2.06.94z\"/><path d=\"M17.41 7.96l-1.37-1.37c-.4-.4-.92-.59-1.43-.59-.52 0-1.04.2-1.43.59L10.3 9.45l-7.72 7.72c-.78.78-.78 2.05 0 2.83L4 21.41c.39.39.9.59 1.41.59.51 0 1.02-.2 1.41-.59l7.78-7.78 2.81-2.81c.8-.78.8-2.07 0-2.86zM5.41 20L4 18.59l7.72-7.72 1.47 1.35L5.41 20z\"/>\n",
              "  </svg>\n",
              "      </button>\n",
              "      \n",
              "  <style>\n",
              "    .colab-df-container {\n",
              "      display:flex;\n",
              "      flex-wrap:wrap;\n",
              "      gap: 12px;\n",
              "    }\n",
              "\n",
              "    .colab-df-convert {\n",
              "      background-color: #E8F0FE;\n",
              "      border: none;\n",
              "      border-radius: 50%;\n",
              "      cursor: pointer;\n",
              "      display: none;\n",
              "      fill: #1967D2;\n",
              "      height: 32px;\n",
              "      padding: 0 0 0 0;\n",
              "      width: 32px;\n",
              "    }\n",
              "\n",
              "    .colab-df-convert:hover {\n",
              "      background-color: #E2EBFA;\n",
              "      box-shadow: 0px 1px 2px rgba(60, 64, 67, 0.3), 0px 1px 3px 1px rgba(60, 64, 67, 0.15);\n",
              "      fill: #174EA6;\n",
              "    }\n",
              "\n",
              "    [theme=dark] .colab-df-convert {\n",
              "      background-color: #3B4455;\n",
              "      fill: #D2E3FC;\n",
              "    }\n",
              "\n",
              "    [theme=dark] .colab-df-convert:hover {\n",
              "      background-color: #434B5C;\n",
              "      box-shadow: 0px 1px 3px 1px rgba(0, 0, 0, 0.15);\n",
              "      filter: drop-shadow(0px 1px 2px rgba(0, 0, 0, 0.3));\n",
              "      fill: #FFFFFF;\n",
              "    }\n",
              "  </style>\n",
              "\n",
              "      <script>\n",
              "        const buttonEl =\n",
              "          document.querySelector('#df-3a0f8578-2fa0-4038-acd3-0b0d6a98bcef button.colab-df-convert');\n",
              "        buttonEl.style.display =\n",
              "          google.colab.kernel.accessAllowed ? 'block' : 'none';\n",
              "\n",
              "        async function convertToInteractive(key) {\n",
              "          const element = document.querySelector('#df-3a0f8578-2fa0-4038-acd3-0b0d6a98bcef');\n",
              "          const dataTable =\n",
              "            await google.colab.kernel.invokeFunction('convertToInteractive',\n",
              "                                                     [key], {});\n",
              "          if (!dataTable) return;\n",
              "\n",
              "          const docLinkHtml = 'Like what you see? Visit the ' +\n",
              "            '<a target=\"_blank\" href=https://colab.research.google.com/notebooks/data_table.ipynb>data table notebook</a>'\n",
              "            + ' to learn more about interactive tables.';\n",
              "          element.innerHTML = '';\n",
              "          dataTable['output_type'] = 'display_data';\n",
              "          await google.colab.output.renderOutput(dataTable, element);\n",
              "          const docLink = document.createElement('div');\n",
              "          docLink.innerHTML = docLinkHtml;\n",
              "          element.appendChild(docLink);\n",
              "        }\n",
              "      </script>\n",
              "    </div>\n",
              "  </div>\n",
              "  "
            ]
          },
          "metadata": {},
          "execution_count": 48
        }
      ]
    },
    {
      "cell_type": "markdown",
      "source": [
        "### Nomor 29"
      ],
      "metadata": {
        "id": "8yP9jxB43ltK"
      }
    },
    {
      "cell_type": "markdown",
      "source": [
        "Lakukan One Way ANOVA Test berikut:\n",
        "\n",
        "H0 : Mean umur pengguna gofood = mean umur pengguna grabfood = mean umur\n",
        "pengguna shopeefood\n",
        "\n",
        "H1 : Setidaknya ada dua grup yang memiliki mean umur yang berbeda\n",
        "\n",
        "alpha : 5%"
      ],
      "metadata": {
        "id": "Xtiaqk-23nc3"
      }
    },
    {
      "cell_type": "code",
      "source": [
        "usia = df[[\"Usia\", \"50. Apakah Anda pernah menggunakan layanan Food Delivery (pembelian makanan/ minuman secara online )? Jika Pernah, mohon sebutkan layanan yang PALING sering Anda gunakan?\"]]\n",
        "usia = usia.rename(columns={\"50. Apakah Anda pernah menggunakan layanan Food Delivery (pembelian makanan/ minuman secara online )? Jika Pernah, mohon sebutkan layanan yang PALING sering Anda gunakan?\": \"Layanan\"})\n",
        "usia = usia.loc[(usia[\"Layanan\"] == \"GoFood\") | (usia[\"Layanan\"] == \"GrabFood\") | (usia[\"Layanan\"] == \"ShopeeFood\")]\n",
        "usia.reset_index()\n",
        "alpha = 0.05\n",
        "dfn = len(usia[\"Layanan\"].value_counts()) - 1\n",
        "dfd = len(usia) - 1 - dfn\n",
        "f_alpha = st.f.ppf(1 - alpha, dfn, dfd)\n",
        "print(\"Critical region\\t: F >\", round(f_alpha,5))\n",
        "aov = pg.anova(dv='Usia', between='Layanan', data=usia, detailed = True)\n",
        "F = aov.iat[0,4]\n",
        "p_val = aov.iat[0,5]\n",
        "print(\"F\\t\\t:\", round(F,5))\n",
        "print(\"Kesimpulan\\t: \", end='')\n",
        "if (F > f_alpha):\n",
        "    print(\"H0 berhasil ditolak\")\n",
        "else:\n",
        "    print(\"H0 gagal ditolak\")\n",
        "print(\"P value\\t\\t:\", p_val)"
      ],
      "metadata": {
        "colab": {
          "base_uri": "https://localhost:8080/"
        },
        "id": "xQv3nxVC3waF",
        "outputId": "1263a958-e555-4afe-ad74-c5c33242cdac"
      },
      "execution_count": 49,
      "outputs": [
        {
          "output_type": "stream",
          "name": "stdout",
          "text": [
            "Critical region\t: F > 3.02801\n",
            "F\t\t: 5.31252\n",
            "Kesimpulan\t: H0 berhasil ditolak\n",
            "P value\t\t: 0.005438784895277512\n"
          ]
        }
      ]
    },
    {
      "cell_type": "markdown",
      "source": [
        "### Nomor 30"
      ],
      "metadata": {
        "id": "Cc0CV6dK30xA"
      }
    },
    {
      "cell_type": "markdown",
      "source": [
        "Tuliskan minimal 5 insights/pelajaran dari hasil pengolahan data responden."
      ],
      "metadata": {
        "id": "2MPCeeuz32YN"
      }
    },
    {
      "cell_type": "markdown",
      "source": [
        "1. Dari 300 responden terdapat 159 wanita dan 139 pria dengan rata-rata umur responden sekitar 30 tahun. Dari responden yang ada, sebagian besar adalah mahasiswa/pelajar diikuti oleh karyawan swasta dan ibu rumah tangga. \n",
        "\n",
        "2. Dari data yang ada diperoleh bahwa terjadi peningkatan aktivitas online dari responden tetapi tidak jauh beda dengan aktivitas online yang sama saja dengan proporsi yang meningkat adalah 0.44 dan yang sama saja adalah 0.40. \n",
        "\n",
        "3. Dari data yang ada dapat dilihat bahwa bank BCA adalah bank yang paling banyak digunakan diikuti oleh bank Mandiri dan bank BNI. Bank BCA memeroleh proporsi yang jauh lebih tinggi dibaning bank lain yaitu 0.58 dan diikuti oleh bank Mandiri 0.29.\n",
        "\n",
        "4. Dari data yang ada, responden lebih banyak memilik mobile banking untuk melakukan transfer antar bank. Perbedaan dengan ATM dan Internet Banking sangat jauh. Proporsi untuk mobile banking adalah 0.79 dan diikuti oleh ATM 0.12 dan Internet Banking 0.09. Hal ini tentu saja karena mobile banking jauh lebih instan dibanding yang lain. \n",
        "\n",
        "5. Dari data yang ada, penggunaan emoney sangat tersebar karena beberapa emoney digunakan oleh responden. Untuk emoney ini, GoPay menjadi pilihan responden yang paling banyak dengan proporsi 0.74 dan diikuti oleh ShopeePay dan OVO. Dengan adanya gopay tentu saja responden sangat terbantu baik untuk membeli makanan, bepergian, pembayaran non tunai, dll. \n",
        "\n",
        "6. Dari data yang ada, responden lebih banyak melakukan top up sebesar 50.001 - 100.000. Nominal ini cukup kecil karena masih kebanyakan transaksi dilakukan dengan tunai dan beberapa responden tidak selalu menggunakan emoney dalam kehidupan sehari-hari. \n",
        "\n",
        "7. E-commerce yang paling banyak digunakan oleh responden adalah shopee diikuti oleh Gojek dan Tokopedia dengan proporsi untuk shopee adalah 0.74, gojek sebesar 0,69, dan tokopedia besebar 0.60. \n",
        "\n",
        "8. Responden masih lebih banyak melakukan pembelian barang berharga seperti beli handphone dengan langsung datang ke toko fisik. Hal ini disebabkan masih kurangnya kepercayaan responden terhadap pembelian online. "
      ],
      "metadata": {
        "id": "kkn1hgZR35SY"
      }
    }
  ]
}